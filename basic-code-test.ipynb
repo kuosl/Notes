{
 "cells": [
  {
   "cell_type": "code",
   "execution_count": 1,
   "metadata": {},
   "outputs": [],
   "source": [
    "    new_min_log = {\n",
    "        'recv_time': 'recv_time_str',\n",
    "        'allowed_req': 10,\n",
    "        'blocked_req': 10,\n",
    "        'http_tp': 10,\n",
    "        'https_tp': 10\n",
    "    }\n",
    "    l = [{\n",
    "        'recv_time': 'recv_time_str',\n",
    "        'allowed_req': 0,\n",
    "        'blocked_req': 0,\n",
    "        'http_tp': 0,\n",
    "        'https_tp': 0\n",
    "    }] * 5 + [new_min_log]"
   ]
  },
  {
   "cell_type": "code",
   "execution_count": 2,
   "metadata": {
    "scrolled": true
   },
   "outputs": [
    {
     "data": {
      "text/plain": [
       "[{'recv_time': 'recv_time_str',\n",
       "  'allowed_req': 0,\n",
       "  'blocked_req': 0,\n",
       "  'http_tp': 0,\n",
       "  'https_tp': 0},\n",
       " {'recv_time': 'recv_time_str',\n",
       "  'allowed_req': 0,\n",
       "  'blocked_req': 0,\n",
       "  'http_tp': 0,\n",
       "  'https_tp': 0},\n",
       " {'recv_time': 'recv_time_str',\n",
       "  'allowed_req': 0,\n",
       "  'blocked_req': 0,\n",
       "  'http_tp': 0,\n",
       "  'https_tp': 0},\n",
       " {'recv_time': 'recv_time_str',\n",
       "  'allowed_req': 0,\n",
       "  'blocked_req': 0,\n",
       "  'http_tp': 0,\n",
       "  'https_tp': 0},\n",
       " {'recv_time': 'recv_time_str',\n",
       "  'allowed_req': 0,\n",
       "  'blocked_req': 0,\n",
       "  'http_tp': 0,\n",
       "  'https_tp': 0},\n",
       " {'recv_time': 'recv_time_str',\n",
       "  'allowed_req': 10,\n",
       "  'blocked_req': 10,\n",
       "  'http_tp': 10,\n",
       "  'https_tp': 10}]"
      ]
     },
     "execution_count": 2,
     "metadata": {},
     "output_type": "execute_result"
    }
   ],
   "source": [
    "l"
   ]
  },
  {
   "cell_type": "code",
   "execution_count": 4,
   "metadata": {},
   "outputs": [
    {
     "data": {
      "text/plain": [
       "[1, 2, 3, 4, 5]"
      ]
     },
     "execution_count": 4,
     "metadata": {},
     "output_type": "execute_result"
    }
   ],
   "source": [
    "l = [3,4,5]\n",
    "l.insert(0, 2)\n",
    "l.insert(0, 1)\n",
    "l"
   ]
  },
  {
   "cell_type": "raw",
   "metadata": {},
   "source": [
    "获取N个过去分钟的时间戳列表"
   ]
  },
  {
   "cell_type": "code",
   "execution_count": 22,
   "metadata": {
    "scrolled": true
   },
   "outputs": [
    {
     "data": {
      "text/plain": [
       "{'20190313T033600': {'req': 8},\n",
       " '20190313T033500': {'req': 8},\n",
       " '20190313T033400': {'req': 8},\n",
       " '20190313T033300': {'req': 8},\n",
       " '20190313T033200': {'req': 8},\n",
       " '20190313T033100': {'req': 8},\n",
       " '20190313T033000': {'req': 8},\n",
       " '20190313T032900': {'req': 8},\n",
       " '20190313T032800': {'req': 8},\n",
       " '20190313T032700': {'req': 8},\n",
       " '20190313T032600': {'req': 8},\n",
       " '20190313T032500': {'req': 8},\n",
       " '20190313T032400': {'req': 8},\n",
       " '20190313T032300': {'req': 8},\n",
       " '20190313T032200': {'req': 8},\n",
       " '20190313T032100': {'req': 8},\n",
       " '20190313T032000': {'req': 8},\n",
       " '20190313T031900': {'req': 8},\n",
       " '20190313T031800': {'req': 8},\n",
       " '20190313T031700': {'req': 8},\n",
       " '20190313T031600': {'req': 8},\n",
       " '20190313T031500': {'req': 8},\n",
       " '20190313T031400': {'req': 8},\n",
       " '20190313T031300': {'req': 8},\n",
       " '20190313T031200': {'req': 8},\n",
       " '20190313T031100': {'req': 8},\n",
       " '20190313T031000': {'req': 8},\n",
       " '20190313T030900': {'req': 8},\n",
       " '20190313T030800': {'req': 8},\n",
       " '20190313T030700': {'req': 8},\n",
       " '20190313T030600': {'req': 8},\n",
       " '20190313T030500': {'req': 8},\n",
       " '20190313T030400': {'req': 8},\n",
       " '20190313T030300': {'req': 8},\n",
       " '20190313T030200': {'req': 8},\n",
       " '20190313T030100': {'req': 8},\n",
       " '20190313T030000': {'req': 8},\n",
       " '20190313T025900': {'req': 8},\n",
       " '20190313T025800': {'req': 8},\n",
       " '20190313T025700': {'req': 8},\n",
       " '20190313T025600': {'req': 8},\n",
       " '20190313T025500': {'req': 8},\n",
       " '20190313T025400': {'req': 8},\n",
       " '20190313T025300': {'req': 8},\n",
       " '20190313T025200': {'req': 8},\n",
       " '20190313T025100': {'req': 8},\n",
       " '20190313T025000': {'req': 8},\n",
       " '20190313T024900': {'req': 8},\n",
       " '20190313T024800': {'req': 8},\n",
       " '20190313T024700': {'req': 8},\n",
       " '20190313T024600': {'req': 8},\n",
       " '20190313T024500': {'req': 8},\n",
       " '20190313T024400': {'req': 8},\n",
       " '20190313T024300': {'req': 8},\n",
       " '20190313T024200': {'req': 8},\n",
       " '20190313T024100': {'req': 8},\n",
       " '20190313T024000': {'req': 8},\n",
       " '20190313T023900': {'req': 8},\n",
       " '20190313T023800': {'req': 8},\n",
       " '20190313T023700': {'req': 8},\n",
       " '20190313T023600': {'req': 8},\n",
       " '20190313T023500': {'req': 8}}"
      ]
     },
     "execution_count": 22,
     "metadata": {},
     "output_type": "execute_result"
    }
   ],
   "source": [
    "import datetime\n",
    "def get_min_log_list(ret_dt, dashboard_log, minutes=60):\n",
    "    dict_logs = []\n",
    "    for m in range(0, 60+1+1):# total 60+1 items\n",
    "        timestamp_dt = ret_dt-datetime.timedelta(minutes=m)\n",
    "        timestamp_str = timestamp_dt.strftime(\"%Y%m%dT%H%M00\")\n",
    "        dict_logs.append({'recv_time': timestamp_str, 'req': 8})\n",
    "    return dict_logs\n",
    "\n",
    "def get_m0_log_list(ret_dt, dashboard_log, minutes=60):\n",
    "    dict_logs = {}\n",
    "    for m in range(0, 60+1+1):# total 60+1 items\n",
    "        timestamp_dt = ret_dt-datetime.timedelta(minutes=m)\n",
    "        timestamp_str = timestamp_dt.strftime(\"%Y%m%dT%H%M00\")\n",
    "        dict_logs[timestamp_str] = {}\n",
    "    return dict_logs\n",
    "\n",
    "import copy\n",
    "def convxxx():\n",
    "    llogs = get_min_log_list(datetime.datetime.utcnow(), None)\n",
    "    m0 = get_m0_log_list(datetime.datetime.utcnow(), None)\n",
    "    for l in llogs:\n",
    "        m0[l['recv_time']] = copy.deepcopy(l)\n",
    "        del m0[l['recv_time']]['recv_time']\n",
    "    return m0\n",
    "\n",
    "convxxx()"
   ]
  },
  {
   "cell_type": "code",
   "execution_count": 14,
   "metadata": {},
   "outputs": [
    {
     "name": "stdout",
     "output_type": "stream",
     "text": [
      "invalid literal for int() with base 10: 'abc'\n"
     ]
    }
   ],
   "source": [
    "offset_hours = \"abc\"\n",
    "try:\n",
    "    hours = int(offset_hours)\n",
    "except ValueError as e:\n",
    "    print(e)"
   ]
  },
  {
   "cell_type": "code",
   "execution_count": 16,
   "metadata": {
    "scrolled": true
   },
   "outputs": [
    {
     "data": {
      "text/plain": [
       "{'20190313T032600': 123,\n",
       " '20190313T032500': 123,\n",
       " '20190313T032400': 123,\n",
       " '20190313T032300': 123,\n",
       " '20190313T032200': 123,\n",
       " '20190313T032100': 123,\n",
       " '20190313T032000': 123,\n",
       " '20190313T031900': 123,\n",
       " '20190313T031800': 123,\n",
       " '20190313T031700': 123,\n",
       " '20190313T031600': 123,\n",
       " '20190313T031500': 123,\n",
       " '20190313T031400': 123,\n",
       " '20190313T031300': 123,\n",
       " '20190313T031200': 123,\n",
       " '20190313T031100': 123,\n",
       " '20190313T031000': 123,\n",
       " '20190313T030900': 123,\n",
       " '20190313T030800': 123,\n",
       " '20190313T030700': 123,\n",
       " '20190313T030600': 123,\n",
       " '20190313T030500': 123,\n",
       " '20190313T030400': 123,\n",
       " '20190313T030300': 123,\n",
       " '20190313T030200': 123,\n",
       " '20190313T030100': 123,\n",
       " '20190313T030000': 123,\n",
       " '20190313T025900': 123,\n",
       " '20190313T025800': 123,\n",
       " '20190313T025700': 123,\n",
       " '20190313T025600': 123,\n",
       " '20190313T025500': 123,\n",
       " '20190313T025400': 123,\n",
       " '20190313T025300': 123,\n",
       " '20190313T025200': 123,\n",
       " '20190313T025100': 123,\n",
       " '20190313T025000': 123,\n",
       " '20190313T024900': 123,\n",
       " '20190313T024800': 123,\n",
       " '20190313T024700': 123,\n",
       " '20190313T024600': 123,\n",
       " '20190313T024500': 123,\n",
       " '20190313T024400': 123,\n",
       " '20190313T024300': 123,\n",
       " '20190313T024200': 123,\n",
       " '20190313T024100': 123,\n",
       " '20190313T024000': 123,\n",
       " '20190313T023900': 123,\n",
       " '20190313T023800': 123,\n",
       " '20190313T023700': 123,\n",
       " '20190313T023600': 123,\n",
       " '20190313T023500': 123,\n",
       " '20190313T023400': 123,\n",
       " '20190313T023300': 123,\n",
       " '20190313T023200': 123,\n",
       " '20190313T023100': 123,\n",
       " '20190313T023000': 123,\n",
       " '20190313T022900': 123,\n",
       " '20190313T022800': 123,\n",
       " '20190313T022700': 123,\n",
       " '20190313T022600': 123,\n",
       " '20190313T022500': 123}"
      ]
     },
     "execution_count": 16,
     "metadata": {},
     "output_type": "execute_result"
    }
   ],
   "source": [
    "import copy\n",
    "l2 = copy.deepcopy(l1)\n",
    "l2"
   ]
  },
  {
   "cell_type": "code",
   "execution_count": 53,
   "metadata": {},
   "outputs": [
    {
     "name": "stdout",
     "output_type": "stream",
     "text": [
      "1 2019-03-05 16:00:00\n",
      "2 2019-03-06 16:00:00\n",
      "3 2019-03-07 16:00:00\n",
      "4 2019-03-08 16:00:00\n",
      "5 2019-03-09 16:00:00\n",
      "6 2019-03-10 16:00:00\n",
      "7 2019-03-11 16:00:00\n",
      "8 2019-03-12 16:00:00\n",
      "9 2019-03-13 07:00:00\n"
     ]
    }
   ],
   "source": [
    "def get_daily_log_list(days, offset_hours=0):\n",
    "    dt_list = []\n",
    "    utc_now = datetime.datetime.utcnow()\n",
    "    today_begin = datetime.datetime(year=utc_now.year, month=utc_now.month, day=utc_now.day)\n",
    "    start_dt = today_begin - datetime.timedelta(hours=offset_hours, days=days)\n",
    "    while start_dt < utc_now:\n",
    "        dt_list.append(start_dt)\n",
    "        start_dt+=datetime.timedelta(days=1)\n",
    "    dt_list.append(datetime.datetime(year=utc_now.year, month=utc_now.month, day=utc_now.day, hour=utc_now.hour))\n",
    "    return dt_list\n",
    "\n",
    "ts_list = get_daily_log_list(7, 8)\n",
    "for i, d in enumerate(ts_list):\n",
    "    print(i+1, d)"
   ]
  },
  {
   "cell_type": "code",
   "execution_count": 55,
   "metadata": {},
   "outputs": [
    {
     "data": {
      "text/plain": [
       "[datetime.datetime(2019, 3, 11, 16, 0),\n",
       " datetime.datetime(2019, 3, 12, 16, 0),\n",
       " datetime.datetime(2019, 3, 13, 7, 0)]"
      ]
     },
     "execution_count": 55,
     "metadata": {},
     "output_type": "execute_result"
    }
   ],
   "source": [
    "ts_list = get_daily_log_list(1, 8)\n",
    "ts_list"
   ]
  },
  {
   "cell_type": "code",
   "execution_count": 76,
   "metadata": {
    "code_folding": [],
    "scrolled": true
   },
   "outputs": [
    {
     "data": {
      "text/plain": [
       "{'20190311T160000': '16,17,18,19,20,21,22,23,00,01,02,03,04,05,06,07,08,09,10,11,12,13,14,15',\n",
       " '20190312T160000': '16,17,18,19,20,21,22,23,00,01,02,03,04,05,06,07,08'}"
      ]
     },
     "execution_count": 76,
     "metadata": {},
     "output_type": "execute_result"
    }
   ],
   "source": [
    "def get_daily_log_list(dashboard_log, days, offset_hours=0):\n",
    "\n",
    "    dt_list = []\n",
    "    utc_now = datetime.datetime.utcnow()\n",
    "    latest_hour_dt = datetime.datetime(year=utc_now.year, month=utc_now.month, day=utc_now.day, hour=utc_now.hour)\n",
    "    today_begin = datetime.datetime(year=utc_now.year, month=utc_now.month, day=utc_now.day)-datetime.timedelta(hours=offset_hours)\n",
    "    start_dt = today_begin - datetime.timedelta(days=days)\n",
    "    while start_dt < utc_now:\n",
    "        dt_list.append(start_dt)\n",
    "        start_dt += datetime.timedelta(days=1)\n",
    "    dt_list.append(today_begin)\n",
    "    if len(dt_list) < 2:\n",
    "        logger.error(\"get_daily_log_list calculation error\")\n",
    "        return {}\n",
    "\n",
    "    daily_sum = {}\n",
    "    for dt in dt_list:\n",
    "        ts = dt.strftime(\"%Y%m%dT%H0000\")\n",
    "        daily_sum[ts] = []\n",
    "        for i in range(0, 24):\n",
    "            timestamp = dt+datetime.timedelta(hours=i)\n",
    "            if timestamp > latest_hour_dt:\n",
    "                break\n",
    "            daily_sum[ts].append(timestamp)\n",
    "            \n",
    "    for k, v in daily_sum.items():\n",
    "        daily_sum[k] = \",\".join([t.strftime('%H') for t in v])\n",
    "    return daily_sum\n",
    "\n",
    "get_daily_log_list(None, 1, 8)\n"
   ]
  },
  {
   "cell_type": "code",
   "execution_count": 7,
   "metadata": {},
   "outputs": [
    {
     "data": {
      "text/plain": [
       "['10001_www.baidu.com',\n",
       " '10002_www.baidu.com',\n",
       " '10003_www.baidu.com',\n",
       " '10004_www.baidu.com',\n",
       " '10005_www.baidu.com',\n",
       " '10006_www.baidu.com',\n",
       " '10007_www.baidu.com',\n",
       " '10008_www.baidu.com',\n",
       " '10009_www.baidu.com',\n",
       " '10010_www.baidu.com',\n",
       " '10011_www.baidu.com',\n",
       " '10012_www.baidu.com',\n",
       " '10013_www.baidu.com',\n",
       " '10014_www.baidu.com',\n",
       " '10015_www.baidu.com',\n",
       " '10016_www.baidu.com',\n",
       " '10017_www.baidu.com',\n",
       " '10018_www.baidu.com',\n",
       " '10019_www.baidu.com']"
      ]
     },
     "execution_count": 7,
     "metadata": {},
     "output_type": "execute_result"
    }
   ],
   "source": [
    "policy_names = ['%02d_www.baidu.com' % i for i in range(10001, 10020)]\n",
    "policy_names"
   ]
  },
  {
   "cell_type": "code",
   "execution_count": 8,
   "metadata": {},
   "outputs": [
    {
     "data": {
      "text/plain": [
       "'2016'"
      ]
     },
     "execution_count": 8,
     "metadata": {},
     "output_type": "execute_result"
    }
   ],
   "source": [
    "s = '2016_www.baidu.com'\n",
    "s.index('_')\n",
    "ep_id = s[:s.index('_')]\n",
    "ep_id"
   ]
  },
  {
   "cell_type": "code",
   "execution_count": 12,
   "metadata": {},
   "outputs": [
    {
     "name": "stdout",
     "output_type": "stream",
     "text": [
      "11\n",
      "22\n"
     ]
    }
   ],
   "source": [
    "d = {'a': 11, 'b':22, 'c':33}\n",
    "for k, v in d.items():\n",
    "    if k in ('a', 'b'):\n",
    "        print(v)"
   ]
  },
  {
   "cell_type": "code",
   "execution_count": 14,
   "metadata": {},
   "outputs": [
    {
     "name": "stdout",
     "output_type": "stream",
     "text": [
      "[1, 2, 3, 4, 5, 6, 7, 8, 9, 10]\n"
     ]
    }
   ],
   "source": [
    "l = list(range(1, 11))\n",
    "print(l)"
   ]
  },
  {
   "cell_type": "code",
   "execution_count": 20,
   "metadata": {},
   "outputs": [
    {
     "data": {
      "text/plain": [
       "[1, 2, 3, 4, 5, 6, 7, 8, 9, 10]"
      ]
     },
     "execution_count": 20,
     "metadata": {},
     "output_type": "execute_result"
    }
   ],
   "source": [
    "n = 50\n",
    "l2 = l[-n:]\n",
    "l2"
   ]
  },
  {
   "cell_type": "code",
   "execution_count": 18,
   "metadata": {},
   "outputs": [
    {
     "data": {
      "text/plain": [
       "[1, 2, 3, 4, 5]"
      ]
     },
     "execution_count": 18,
     "metadata": {},
     "output_type": "execute_result"
    }
   ],
   "source": [
    "l2"
   ]
  },
  {
   "cell_type": "markdown",
   "metadata": {},
   "source": [
    "**test copy的copy**"
   ]
  },
  {
   "cell_type": "code",
   "execution_count": 22,
   "metadata": {},
   "outputs": [
    {
     "name": "stdout",
     "output_type": "stream",
     "text": [
      "a {'a': 11, 'b': 22, 'c': 33} b {'a': 11, 'b': 22, 'c': 33}\n",
      "a {'a': 11, 'b': 22, 'c': 33} b {'a': 22, 'b': 22, 'c': 33}\n"
     ]
    }
   ],
   "source": [
    "d = {'a': 11, 'b':22, 'c':33}\n",
    "import copy\n",
    "d2 = copy.copy(d)\n",
    "print('a', d, 'b', d2)\n",
    "d2['a'] = 22\n",
    "print('a', d, 'b', d2)"
   ]
  },
  {
   "cell_type": "code",
   "execution_count": null,
   "metadata": {},
   "outputs": [],
   "source": []
  }
 ],
 "metadata": {
  "kernelspec": {
   "display_name": "env3",
   "language": "python",
   "name": "env3"
  },
  "language_info": {
   "codemirror_mode": {
    "name": "ipython",
    "version": 3
   },
   "file_extension": ".py",
   "mimetype": "text/x-python",
   "name": "python",
   "nbconvert_exporter": "python",
   "pygments_lexer": "ipython3",
   "version": "3.7.2"
  },
  "toc": {
   "base_numbering": 1,
   "nav_menu": {},
   "number_sections": true,
   "sideBar": true,
   "skip_h1_title": false,
   "title_cell": "Table of Contents",
   "title_sidebar": "Contents",
   "toc_cell": false,
   "toc_position": {},
   "toc_section_display": true,
   "toc_window_display": false
  },
  "varInspector": {
   "cols": {
    "lenName": 16,
    "lenType": 16,
    "lenVar": 40
   },
   "kernels_config": {
    "python": {
     "delete_cmd_postfix": "",
     "delete_cmd_prefix": "del ",
     "library": "var_list.py",
     "varRefreshCmd": "print(var_dic_list())"
    },
    "r": {
     "delete_cmd_postfix": ") ",
     "delete_cmd_prefix": "rm(",
     "library": "var_list.r",
     "varRefreshCmd": "cat(var_dic_list()) "
    }
   },
   "types_to_exclude": [
    "module",
    "function",
    "builtin_function_or_method",
    "instance",
    "_Feature"
   ],
   "window_display": false
  }
 },
 "nbformat": 4,
 "nbformat_minor": 2
}
