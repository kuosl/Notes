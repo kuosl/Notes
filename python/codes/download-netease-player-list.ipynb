{
 "cells": [
  {
   "cell_type": "markdown",
   "metadata": {},
   "source": [
    "use firefox plugin, select all songs, then right click, copy selected links"
   ]
  },
  {
   "cell_type": "code",
   "execution_count": 90,
   "metadata": {},
   "outputs": [],
   "source": [
    "# use firefox F12, copy the POST request, and then copy as cURL\n",
    "# the use https://curl.trillworks.com/, convert cURL to python codes\n",
    "import re\n",
    "import os\n",
    "import json\n",
    "import requests\n",
    "import logging\n",
    "\n",
    "logging.basicConfig(level=logging.DEBUG)\n",
    "\n",
    "\n",
    "\n",
    "def get_song_info(song_id):\n",
    "    headers = {\n",
    "        'User-Agent': 'Mozilla/5.0 (X11; Linux x86_64; rv:67.0) Gecko/20100101 Firefox/67.0',\n",
    "        'Accept': 'application/json, text/javascript, */*; q=0.01',\n",
    "        'Accept-Language': 'zh-CN,en;q=0.7,en-US;q=0.3',\n",
    "        'Referer': 'http://music.wandhi.com/?url=https%3A%2F%2Fmusic.163.com%2Fsong%3Fid%3D'+song_id,\n",
    "        'Content-Type': 'application/x-www-form-urlencoded; charset=UTF-8',\n",
    "        'X-Requested-With': 'XMLHttpRequest',\n",
    "        'DNT': '1',\n",
    "        'Connection': 'keep-alive',\n",
    "        'Pragma': 'no-cache',\n",
    "        'Cache-Control': 'no-cache',\n",
    "    }\n",
    "\n",
    "    data = {\n",
    "      'input': 'https://music.163.com/song?id='+song_id,\n",
    "      'filter': 'url',\n",
    "      'type': '_',\n",
    "      'page': '1'\n",
    "    }\n",
    "\n",
    "    r = requests.post('http://music.wandhi.com/', headers=headers, data=data)\n",
    "\n",
    "    if 200 != r.status_code:\n",
    "        msg = \"Failed to get song info, song id %r, status is %r\" % (song_id, r.status_code)\n",
    "        logging.debug(msg)\n",
    "        return None\n",
    "\n",
    "    song_info = json.loads(r.content)\n",
    "    song_data = song_info.get('data', [])\n",
    "    if song_data and list == type(song_data):\n",
    "        song_data = song_data[0]\n",
    "    else:\n",
    "        msg = \"Failed to parse song info: {}\".format(song_data)\n",
    "        logging.debug(msg)\n",
    "        return None\n",
    "\n",
    "    return song_data\n",
    "# song_url, song_author, song_title"
   ]
  },
  {
   "cell_type": "code",
   "execution_count": 91,
   "metadata": {},
   "outputs": [],
   "source": [
    "def download_file(url, ):\n",
    "    local_filename = url.split('/')[-1]\n",
    "    # NOTE the stream=True parameter below\n",
    "    with requests.get(url, stream=True) as r:\n",
    "        r.raise_for_status()\n",
    "        with open(local_filename, 'wb') as f:\n",
    "            for chunk in r.iter_content(chunk_size=8192): \n",
    "                if chunk: # filter out keep-alive new chunks\n",
    "                    f.write(chunk)\n",
    "                    # f.flush()\n",
    "    return local_filename"
   ]
  },
  {
   "cell_type": "code",
   "execution_count": 92,
   "metadata": {},
   "outputs": [],
   "source": [
    "import os\n",
    "\n",
    "def download_song(song_url, song_title):\n",
    "    filename = download_file(song_url)\n",
    "    file_ext = os.path.splitext(filename)[-1]\n",
    "    dst_file = song_title+file_ext\n",
    "    os.rename(filename, dst_file)\n",
    "    return dst_file"
   ]
  },
  {
   "cell_type": "code",
   "execution_count": 93,
   "metadata": {},
   "outputs": [],
   "source": [
    "\"\"\"\n",
    "target play list\n",
    "# https://music.163.com/song?id=34619045\n",
    "# all songs links\n",
    "\"\"\"\n",
    "all_songs = \\\n",
    "\"\"\"\n",
    "https://music.163.com/song?id=34619045\n",
    "https://music.163.com/artist?id=38883\n",
    "https://music.163.com/album?id=3290158\n",
    "https://music.163.com/song?id=34619046\n",
    "https://music.163.com/song?id=34619047\n",
    "https://music.163.com/song?id=34619049\n",
    "https://music.163.com/song?id=34619050\n",
    "https://music.163.com/song?id=34619051\n",
    "https://music.163.com/song?id=34619052\n",
    "https://music.163.com/song?id=34619053\n",
    "https://music.163.com/song?id=34619054\n",
    "https://music.163.com/song?id=34619055\n",
    "https://music.163.com/song?id=34619056\n",
    "https://music.163.com/song?id=34619057\n",
    "https://music.163.com/song?id=34619058\n",
    "https://music.163.com/song?id=34619059\n",
    "https://music.163.com/song?id=34619060\n",
    "https://music.163.com/song?id=34619061\n",
    "https://music.163.com/song?id=34619062\n",
    "https://music.163.com/song?id=34619063\n",
    "https://music.163.com/song?id=34619064\n",
    "https://music.163.com/song?id=34619065\n",
    "https://music.163.com/song?id=34619066\n",
    "https://music.163.com/song?id=34619067\n",
    "https://music.163.com/song?id=34619068\n",
    "https://music.163.com/song?id=34619069\n",
    "https://music.163.com/song?id=34619070\n",
    "https://music.163.com/song?id=34619071\n",
    "https://music.163.com/song?id=34619072\n",
    "https://music.163.com/song?id=34619073\n",
    "https://music.163.com/song?id=34619074\n",
    "https://music.163.com/song?id=34619075\n",
    "https://music.163.com/song?id=34619048\n",
    "https://music.163.com/song?id=34509684\n",
    "https://music.163.com/artist?id=12023288\n",
    "https://music.163.com/artist?id=15166305\n",
    "https://music.163.com/album?id=3279569\n",
    "https://music.163.com/song?id=34509685\n",
    "https://music.163.com/artist?id=190807\n",
    "https://music.163.com/song?id=34509686\n",
    "https://music.163.com/artist?id=1146083\n",
    "https://music.163.com/artist?id=1146085\n",
    "https://music.163.com/artist?id=29405254\n",
    "https://music.163.com/song?id=34509687\n",
    "https://music.163.com/song?id=34509688\n",
    "https://music.163.com/song?id=34509689\n",
    "https://music.163.com/song?id=34509690\n",
    "\"\"\""
   ]
  },
  {
   "cell_type": "code",
   "execution_count": 94,
   "metadata": {},
   "outputs": [],
   "source": [
    "def download_song_by_id(song_id):\n",
    "    song_file = ''\n",
    "    song_info = get_song_info(song_id)\n",
    "    logging.debug(song_info)\n",
    "    if not song_info:\n",
    "        logging.error(song_id, \" get null song_info\")\n",
    "        return ''\n",
    "    logging.debug(\"song_info: {}\".format(song_info))\n",
    "#     song_url = song_info.get('url', '')\n",
    "#     song_title = song_info.get('title', '')\n",
    "#     if not song_url or song_title:\n",
    "#         logging.error(song_id, \" get null song_title or url\")\n",
    "#         return ''\n",
    "#     song_file = download_song(song_url, song_title)\n",
    "#     logging.info(song_file)\n",
    "    return song_file"
   ]
  },
  {
   "cell_type": "code",
   "execution_count": 98,
   "metadata": {},
   "outputs": [
    {
     "data": {
      "text/plain": [
       "''"
      ]
     },
     "execution_count": 98,
     "metadata": {},
     "output_type": "execute_result"
    }
   ],
   "source": [
    "song_id_list = []\n",
    "for song_url in all_songs.splitlines():\n",
    "    song_id = re.sub('^.*id=', '', song_url)\n",
    "    song_id = song_id.strip()\n",
    "    if song_id:\n",
    "        song_id_list.append(song_id)\n",
    "\n",
    "logging.debug(song_id_list)\n",
    "assert song_id_list, \"song id list is empty\"\n",
    "\n",
    "from multiprocessing.dummy import Pool\n",
    "pool = Pool(processes=len(song_id_list))\n",
    "song_files = pool.map(download_song_by_id, song_id_list)\n",
    "pool.close()\n",
    "pool.join()\n",
    "\n",
    "# logging.info(song_files)\n",
    "\n",
    "# filename = download_song_by_id('34619046')\n",
    "# print(filename)\n",
    "\n",
    "print(\"xxxxxxxxxxxxxxx\")\n",
    "os.listdir()"
   ]
  },
  {
   "cell_type": "code",
   "execution_count": null,
   "metadata": {},
   "outputs": [],
   "source": []
  }
 ],
 "metadata": {
  "kernelspec": {
   "display_name": "env3",
   "language": "python",
   "name": "env3"
  },
  "language_info": {
   "codemirror_mode": {
    "name": "ipython",
    "version": 3
   },
   "file_extension": ".py",
   "mimetype": "text/x-python",
   "name": "python",
   "nbconvert_exporter": "python",
   "pygments_lexer": "ipython3",
   "version": "3.7.3"
  },
  "toc": {
   "base_numbering": 1,
   "nav_menu": {},
   "number_sections": true,
   "sideBar": true,
   "skip_h1_title": false,
   "title_cell": "Table of Contents",
   "title_sidebar": "Contents",
   "toc_cell": false,
   "toc_position": {},
   "toc_section_display": true,
   "toc_window_display": false
  },
  "varInspector": {
   "cols": {
    "lenName": 16,
    "lenType": 16,
    "lenVar": 40
   },
   "kernels_config": {
    "python": {
     "delete_cmd_postfix": "",
     "delete_cmd_prefix": "del ",
     "library": "var_list.py",
     "varRefreshCmd": "print(var_dic_list())"
    },
    "r": {
     "delete_cmd_postfix": ") ",
     "delete_cmd_prefix": "rm(",
     "library": "var_list.r",
     "varRefreshCmd": "cat(var_dic_list()) "
    }
   },
   "types_to_exclude": [
    "module",
    "function",
    "builtin_function_or_method",
    "instance",
    "_Feature"
   ],
   "window_display": false
  }
 },
 "nbformat": 4,
 "nbformat_minor": 2
}
