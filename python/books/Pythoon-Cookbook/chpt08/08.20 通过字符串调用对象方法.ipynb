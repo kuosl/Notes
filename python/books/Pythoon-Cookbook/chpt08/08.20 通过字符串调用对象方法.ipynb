{
 "cells": [
  {
   "cell_type": "markdown",
   "metadata": {},
   "source": [
    "有一个字符串形式的方法名称,想通过它调用某个对象的对应方法。"
   ]
  },
  {
   "cell_type": "markdown",
   "metadata": {},
   "source": [
    "最简单的办法：使用getattr"
   ]
  },
  {
   "cell_type": "code",
   "execution_count": 2,
   "metadata": {},
   "outputs": [
    {
     "name": "stdout",
     "output_type": "stream",
     "text": [
      "3.605551275463989\n"
     ]
    }
   ],
   "source": [
    "import math\n",
    "\n",
    "class Point:\n",
    "    \n",
    "    def __init__(self, x, y):\n",
    "        self.x = x\n",
    "        self.y = y\n",
    "    \n",
    "    def __repr__(self):\n",
    "        return \"Point({!r:}, {!r:})\".format(self.x, self.y)\n",
    "    \n",
    "    def distance(self, x, y):\n",
    "        return math.hypot(self.x-x, self.y-y)\n",
    "\n",
    "pt = Point(2, 3)\n",
    "d = getattr(pt, 'distance')(0, 0)\n",
    "print(d)"
   ]
  },
  {
   "cell_type": "markdown",
   "metadata": {},
   "source": [
    "另一个办法是使用`operator.methodcaller`"
   ]
  },
  {
   "cell_type": "code",
   "execution_count": 4,
   "metadata": {},
   "outputs": [
    {
     "data": {
      "text/plain": [
       "3.605551275463989"
      ]
     },
     "execution_count": 4,
     "metadata": {},
     "output_type": "execute_result"
    }
   ],
   "source": [
    "import operator\n",
    "d = operator.methodcaller(\"distance\", 0, 0)\n",
    "d(pt)"
   ]
  },
  {
   "cell_type": "code",
   "execution_count": 7,
   "metadata": {},
   "outputs": [
    {
     "name": "stdout",
     "output_type": "stream",
     "text": [
      "[Point(1, 2), Point(3, 0), Point(3, 2), Point(-1, 8), Point(-5, -7), Point(10, -3)]\n"
     ]
    }
   ],
   "source": [
    "points = [\n",
    "Point(1, 2),\n",
    "Point(3, 0),\n",
    "Point(10, -3),\n",
    "Point(-5, -7),\n",
    "Point(-1, 8),\n",
    "Point(3, 2)\n",
    "]\n",
    "# Sort by distance from origin (0, 0)\n",
    "sorted_pt = points.sort(key=operator.methodcaller('distance', 0, 0))\n",
    "print(points)"
   ]
  },
  {
   "cell_type": "markdown",
   "metadata": {},
   "source": [
    "# 总结\n",
    "operator.methodcaller() 创建一个**可调用对象,并同时提供所有必要参数**,然后调用的时候只需要将实例对象传递给它即可"
   ]
  }
 ],
 "metadata": {
  "kernelspec": {
   "display_name": "env3",
   "language": "python",
   "name": "env3"
  },
  "language_info": {
   "codemirror_mode": {
    "name": "ipython",
    "version": 3
   },
   "file_extension": ".py",
   "mimetype": "text/x-python",
   "name": "python",
   "nbconvert_exporter": "python",
   "pygments_lexer": "ipython3",
   "version": "3.7.3"
  }
 },
 "nbformat": 4,
 "nbformat_minor": 2
}
