{
  "cells": [
    {
      "cell_type": "code",
      "execution_count": null,
      "metadata": {
        "pycharm": {
          "is_executing": true
        }
      },
      "outputs": [],
      "source": "# encoding\u003dutf-8\nimport time\nimport threading\n\nclass CountDown:\n    def __init__(self, n):\n        self.n \u003d n\n        self.thr \u003d threading.Thread(target\u003dself.run)\n        self.thr.daemon \u003d True\n        self.thr.start()\n\n    def run(self):\n        while self.n \u003e 0:\n            print(\"T-minus\", self.n)\n            self.n -\u003d 1\n            time.sleep(2)\n\n    def __getstate__(self):\n        return self.n\n\n    def __setstate__(self, n):\n        this.__init__(n)\n        "
    },
    {
      "cell_type": "code",
      "execution_count": 8,
      "outputs": [
        {
          "name": "stdout",
          "text": [
            "T-minus 30\n"
          ],
          "output_type": "stream"
        }
      ],
      "source": "c \u003d CountDown(30)",
      "metadata": {
        "pycharm": {
          "metadata": false,
          "name": "#%%\n",
          "is_executing": false
        }
      }
    },
    {
      "cell_type": "code",
      "execution_count": 8,
      "outputs": [],
      "source": "\n",
      "metadata": {
        "pycharm": {
          "metadata": false,
          "name": "#%%\n",
          "is_executing": false
        }
      }
    }
  ],
  "metadata": {
    "kernelspec": {
      "name": "env3",
      "language": "python",
      "display_name": "env3"
    },
    "language_info": {
      "codemirror_mode": {
        "name": "ipython",
        "version": 3
      },
      "file_extension": ".py",
      "mimetype": "text/x-python",
      "name": "python",
      "nbconvert_exporter": "python",
      "pygments_lexer": "ipython3",
      "version": "3.7.3"
    }
  },
  "nbformat": 4,
  "nbformat_minor": 2
}