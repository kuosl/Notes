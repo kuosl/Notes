{
 "cells": [
  {
   "cell_type": "markdown",
   "metadata": {},
   "source": [
    "## 13.1 通过重定向/管道/文件接受输入"
   ]
  },
  {
   "cell_type": "markdown",
   "metadata": {},
   "source": [
    "## 13.3 解析命令行选项"
   ]
  },
  {
   "cell_type": "markdown",
   "metadata": {},
   "source": [
    "argparse 模块可被用来解析命令行选项。"
   ]
  },
  {
   "cell_type": "markdown",
   "metadata": {},
   "source": [
    "argparse 模块是标准库中最大的模块之一,拥有大量的配置选项。本节只是演示\n",
    "了其中最基础的一些特性,帮助你入门。\n",
    "为 了 解 析 命 令 行 选 项, 你 首 先 要 创 建 一 个 ArgumentParser 实 例,并 使 用\n",
    "add_argument() 方法声明你想要支持的选项。在每个 add_argument() 调用中,dest\n",
    "参数指定解析结果被指派给属性的名字。metavar 参数被用来生成帮助信息。action\n",
    "参数指定跟属性对应的处理逻辑,通常的值为 store , 被用来存储某个值或讲多个参数\n",
    "值收集到一个列表中。"
   ]
  },
  {
   "cell_type": "markdown",
   "metadata": {},
   "source": [
    "## 13.6 执行外部命令并获取它的输出\n",
    "\n",
    "你想执行一个外部命令并以 Python 字符串的形式获取执行结果。使用 `subprocess.check_output()` 函数"
   ]
  },
  {
   "cell_type": "code",
   "execution_count": null,
   "metadata": {},
   "outputs": [],
   "source": [
    "out_bytes = subprocess.check_output(['cmd','arg1','arg2'],\n",
    "stderr=subprocess.STDOUT)"
   ]
  },
  {
   "cell_type": "markdown",
   "metadata": {},
   "source": [
    "通常来讲,命令的执行不需要使用到底层 shell 环境(比如 sh、bash)。一个字符串\n",
    "列表会被传递给一个低级系统命令,比如 os.execve() 。\n",
    "\n",
    "如果你想让命令被一个 shell\n",
    "执行,传递一个字符串参数,并设置参数 shell=True . 有时候你想要 Python 去执行\n",
    "一个复杂的 shell 命令的时候这个就很有用了,比如管道流、I/O 重定向和其他特性。\n",
    "例如:"
   ]
  },
  {
   "cell_type": "code",
   "execution_count": null,
   "metadata": {},
   "outputs": [],
   "source": [
    "out_bytes = subprocess.check_output('grep python | wc > out', shell=True)"
   ]
  },
  {
   "cell_type": "markdown",
   "metadata": {},
   "source": [
    "使用 check_output() 函数是执行外部命令并获取其返回值的最简单方式。\n",
    "\n",
    "如果你需要对子进程做更复杂的交互,比如给它发送输入,你得采用另外一种方法。这\n",
    "时候可直接使用 `subprocess.Popen` 类。"
   ]
  },
  {
   "cell_type": "code",
   "execution_count": null,
   "metadata": {},
   "outputs": [],
   "source": [
    "# Launch a command with pipes\n",
    "p = subprocess.Popen(['wc'],\n",
    "stdout = subprocess.PIPE,\n",
    "stdin = subprocess.PIPE)\n",
    "# Send the data and get the output\n",
    "stdout, stderr = p.communicate(text)\n",
    "# To interpret as text, decode\n",
    "out = stdout.decode('utf-8')\n",
    "err = stderr.decode('utf-8')"
   ]
  },
  {
   "cell_type": "markdown",
   "metadata": {},
   "source": [
    "**subprocess 模块对于依赖 TTY 的外部命令不合适用。**例如,你不能使用它来自\n",
    "动化一个用户输入密码的任务(比如一个 ssh 会话)。这时候,你需要使用到第三方模\n",
    "块了,比如基于著名的 expect 家族的工具(pexpect 或类似的)"
   ]
  },
  {
   "cell_type": "markdown",
   "metadata": {},
   "source": [
    "## 13.7 复制或者移动文件和目录"
   ]
  },
  {
   "cell_type": "markdown",
   "metadata": {},
   "source": [
    "`shutil 模块`有很多便捷的函数可以复制文件和目录。"
   ]
  },
  {
   "cell_type": "markdown",
   "metadata": {},
   "source": [
    "import shutil\n",
    "# Copy src to dst. (cp src dst)\n",
    "shutil.copy(src, dst)\n",
    "# Copy files, but preserve metadata (cp -p src dst)\n",
    "shutil.copy2(src, dst)\n",
    "# Copy directory tree (cp -R src dst)\n",
    "shutil.copytree(src, dst)\n",
    "# Move src to dst (mv src dst)\n",
    "shutil.move(src, dst)"
   ]
  },
  {
   "cell_type": "markdown",
   "metadata": {},
   "source": [
    "`copytree()` 可以让你在复制过程中选择性的`忽略某些文件或目录`。你可以提供一\n",
    "个忽略函数,接受一个目录名和文件名列表作为输入,`返回一个忽略的名称列表`。"
   ]
  },
  {
   "cell_type": "code",
   "execution_count": null,
   "metadata": {},
   "outputs": [],
   "source": [
    "def ignore_pyc_files(dirname, filenames):\n",
    "    return [name in filenames if name.endswith('.pyc')]\n",
    "\n",
    "shutil.copytree(src, dst, ignore=ignore_pyc_files)"
   ]
  },
  {
   "cell_type": "markdown",
   "metadata": {},
   "source": [
    "当`处理文件名`的时候,最好使用 `os.path`\n",
    "中的函数来确保最大的可移植性(特别是同时要适用于 Unix 和 Windows)。"
   ]
  },
  {
   "cell_type": "code",
   "execution_count": null,
   "metadata": {},
   "outputs": [],
   "source": [
    ">>> filename = '/Users/guido/programs/spam.py'\n",
    ">>> import os.path\n",
    ">>> os.path.basename(filename)\n",
    "'spam.py'\n",
    ">>> os.path.dirname(filename)\n",
    "'/Users/guido/programs'\n",
    ">>> os.path.split(filename)\n",
    "('/Users/guido/programs', 'spam.py')\n",
    ">>> os.path.join('/new/dir', os.path.basename(filename))\n",
    "'/new/dir/spam.py'\n",
    ">>> os.path.expanduser('~/guido/programs/spam.py')\n",
    "'/Users/guido/programs/spam.py'\n",
    ">>>"
   ]
  },
  {
   "cell_type": "markdown",
   "metadata": {},
   "source": [
    "## 13.8 创建和解压归档文件"
   ]
  },
  {
   "cell_type": "markdown",
   "metadata": {},
   "source": [
    "`shutil 模块`拥有两个函数——`make_archive()` 和 `unpack_archive()` 可派上用\n",
    "场。"
   ]
  },
  {
   "cell_type": "code",
   "execution_count": null,
   "metadata": {},
   "outputs": [],
   "source": [
    ">>> import shutil\n",
    ">>> shutil.unpack_archive('Python-3.3.0.tgz')\n",
    ">>> shutil.make_archive('py33','zip','Python-3.3.0')\n",
    "'/Users/beazley/Downloads/py33.zip'\n",
    ">>>"
   ]
  },
  {
   "cell_type": "markdown",
   "metadata": {},
   "source": [
    "make_archive() 的 第 二 个 参 数 是 期 望 的 输 出 格 式。可 以 使 用`get_archive_formats()` 获取所有支持的`归档格式`列表。"
   ]
  },
  {
   "cell_type": "markdown",
   "metadata": {},
   "source": [
    "## 13.9 通过文件名查找文件"
   ]
  },
  {
   "cell_type": "markdown",
   "metadata": {},
   "source": [
    "查找文件,可使用 `os.walk()` 函数,传一个顶级目录名给它。\n",
    "\n",
    "os.walk() 方法为我们遍历目录树,每次进入一个目录,它会返回一个三元组,包\n",
    "含相对于查找目录的相对路径,一个该目录下的目录名列表,以及那个目录下面的文件\n",
    "名列表。"
   ]
  },
  {
   "cell_type": "code",
   "execution_count": null,
   "metadata": {},
   "outputs": [],
   "source": [
    "#!/usr/bin/env python\n",
    "import os\n",
    "\n",
    "def findfile(start, name):\n",
    "    for relpath, dirs, files in os.walk(start):\n",
    "        if name in files:\n",
    "            full_path = os.path.join(start, relpath, name)\n",
    "            print(os.path.normpath(os.path.abspath(full_path)))\n",
    "\n",
    "if __name__ == '__main__':\n",
    "    findfile(sys.argv[1], sys.argv[2])"
   ]
  },
  {
   "cell_type": "markdown",
   "metadata": {},
   "source": [
    "打印\n",
    "所有最近被修改过的文件:"
   ]
  },
  {
   "cell_type": "code",
   "execution_count": null,
   "metadata": {},
   "outputs": [],
   "source": [
    "#!/usr/bin/env python3.3\n",
    "import time\n",
    "import os\n",
    "\n",
    "def modified_within(top, seconds):\n",
    "    now = time.time()\n",
    "    for path, dirs, files in os.walk(top):\n",
    "        for name in files:\n",
    "            fullpath = os.path.join(path, name)\n",
    "            if os.path.exists(fullpath):\n",
    "                mtime = os.path.getmtime(fullpath)\n",
    "                if mtime > (now - seconds):\n",
    "                    print(fullpath)\n",
    "                    \n",
    "\n",
    "if __name__ == '__main__':\n",
    "    import sys\n",
    "    if len(sys.argv) != 3:\n",
    "        print('Usage: {} dir seconds'.format(sys.argv[0]))\n",
    "        raise SystemExit(1)\n",
    "    modified_within(sys.argv[1], float(sys.argv[2]))"
   ]
  },
  {
   "cell_type": "markdown",
   "metadata": {},
   "source": [
    "## 13.10 读取配置文件"
   ]
  },
  {
   "cell_type": "markdown",
   "metadata": {},
   "source": [
    "读取普通.ini 格式的配置文件, `configparser 模块`"
   ]
  },
  {
   "cell_type": "code",
   "execution_count": null,
   "metadata": {},
   "outputs": [],
   "source": [
    ">>> from configparser import ConfigParser\n",
    ">>> cfg = ConfigParser()\n",
    ">>> cfg.read('config.ini')\n",
    "['config.ini']\n",
    ">>> cfg.sections()\n",
    "['installation', 'debug', 'server']\n",
    ">>> cfg.get('installation','library')\n",
    "'/usr/local/lib'\n",
    ">>> cfg.getboolean('debug','log_errors')\n",
    "True\n",
    ">>> cfg.getint('server','port')\n",
    "8080"
   ]
  },
  {
   "cell_type": "code",
   "execution_count": null,
   "metadata": {},
   "outputs": [],
   "source": [
    ">>> cfg.set('server','port','9000')\n",
    ">>> cfg.set('debug','log_errors','False')\n",
    ">>> import sys\n",
    ">>> cfg.write(sys.stdout)"
   ]
  },
  {
   "cell_type": "markdown",
   "metadata": {},
   "source": [
    "配置文件中的**配置项名字是不区分大小写的**。例如:"
   ]
  },
  {
   "cell_type": "code",
   "execution_count": null,
   "metadata": {},
   "outputs": [],
   "source": [
    ">>> cfg.get('installation','PREFIX')\n",
    "'/usr/local'\n",
    ">>> cfg.get('installation','prefix')\n",
    "'/usr/local'\n",
    ">>>"
   ]
  },
  {
   "cell_type": "markdown",
   "metadata": {},
   "source": [
    "getboolean() 方法查找任何可行的值。例如下面都是等价的:"
   ]
  },
  {
   "cell_type": "code",
   "execution_count": null,
   "metadata": {},
   "outputs": [],
   "source": [
    "log_errors = true\n",
    "log_errors = TRUE\n",
    "log_errors = Yes\n",
    "log_errors = 1"
   ]
  },
  {
   "cell_type": "markdown",
   "metadata": {},
   "source": [
    "或许配置文件和 Python 代码最大的不同在于,它并不是从上而下的顺序执行。文\n",
    "件是安装一个整体被读取的。如果碰到了变量替换,它实际上已经被替换完成了。\n",
    "\n",
    "例\n",
    "如,在下面这个配置中,prefix 变量在使用它的变量之前或之后定义都是可以的:"
   ]
  },
  {
   "cell_type": "raw",
   "metadata": {},
   "source": [
    "[installation]\n",
    "library=%(prefix)s/lib\n",
    "include=%(prefix)s/include\n",
    "bin=%(prefix)s/bin\n",
    "prefix=/usr/local"
   ]
  },
  {
   "cell_type": "markdown",
   "metadata": {},
   "source": [
    "ConfigParser 有个容易被忽视的特性是**它能一次读取多个配置文件然后合并成一\n",
    "个配置。** 能跟之前的配置合并起来。"
   ]
  },
  {
   "cell_type": "code",
   "execution_count": null,
   "metadata": {},
   "outputs": [],
   "source": [
    ">>> # Previously read configuration\n",
    ">>> cfg.get('installation', 'prefix')\n",
    "'/usr/local'\n",
    "\n",
    ">>> # Merge in user-specific configuration\n",
    ">>> import os\n",
    ">>> cfg.read(os.path.expanduser('~/.config.ini'))\n",
    "['/Users/beazley/.config.ini']\n",
    ">>> cfg.get('installation', 'prefix')\n",
    "'/Users/beazley/test'\n",
    ">>> cfg.get('installation', 'library')\n",
    "'/Users/beazley/test/lib'\n",
    ">>> cfg.getboolean('debug', 'log_errors')\n",
    "False\n",
    ">>>"
   ]
  },
  {
   "cell_type": "markdown",
   "metadata": {},
   "source": [
    "## 13.11 给简单脚本增加日志功能"
   ]
  },
  {
   "cell_type": "markdown",
   "metadata": {},
   "source": [
    "## 13.12 给函数库增加日志功能"
   ]
  },
  {
   "cell_type": "markdown",
   "metadata": {},
   "source": [
    "调用 getLogger(__name__) 创建一个和调用模块同名的 logger 模块。由于模块都是唯一的,因此创建的 logger 也将是唯一的。"
   ]
  },
  {
   "cell_type": "code",
   "execution_count": null,
   "metadata": {},
   "outputs": [],
   "source": [
    "logging.getLogger('somelib').level=logging.DEBUG"
   ]
  },
  {
   "cell_type": "code",
   "execution_count": null,
   "metadata": {},
   "outputs": [],
   "source": []
  }
 ],
 "metadata": {
  "kernelspec": {
   "display_name": "env3",
   "language": "python",
   "name": "env3"
  },
  "language_info": {
   "codemirror_mode": {
    "name": "ipython",
    "version": 3
   },
   "file_extension": ".py",
   "mimetype": "text/x-python",
   "name": "python",
   "nbconvert_exporter": "python",
   "pygments_lexer": "ipython3",
   "version": "3.7.3"
  }
 },
 "nbformat": 4,
 "nbformat_minor": 2
}
