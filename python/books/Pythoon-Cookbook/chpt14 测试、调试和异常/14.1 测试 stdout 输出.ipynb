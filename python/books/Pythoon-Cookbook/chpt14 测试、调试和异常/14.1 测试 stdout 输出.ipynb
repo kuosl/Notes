{
 "cells": [
  {
   "cell_type": "markdown",
   "metadata": {},
   "source": [
    "## 14.1 测试 stdout 输出"
   ]
  },
  {
   "cell_type": "markdown",
   "metadata": {},
   "source": [
    "## 14.9 捕获异常后抛出另外的异常"
   ]
  },
  {
   "cell_type": "markdown",
   "metadata": {},
   "source": [
    "你想捕获一个异常后抛出另外一个不同的异常,同时还得在异常回溯中保留两个\n",
    "异常的信息。"
   ]
  },
  {
   "cell_type": "markdown",
   "metadata": {},
   "source": [
    "为了链接异常,使用 `raise from` 语句来代替简单的 `raise` 语句。它会让你同时保\n",
    "留两个异常的信息。"
   ]
  },
  {
   "cell_type": "code",
   "execution_count": null,
   "metadata": {},
   "outputs": [],
   "source": [
    ">>> def example():\n",
    " try:\n",
    "     int('N/A')\n",
    " except ValueError as e:\n",
    "     raise RuntimeError('A parsing error occurred') from e\n",
    ">>> example()\n",
    "Traceback (most recent call last):\n",
    "File \"<stdin>\", line 3, in example\n",
    "ValueError: invalid literal for int() with base 10: 'N/A'"
   ]
  },
  {
   "cell_type": "markdown",
   "metadata": {},
   "source": [
    "上面的异常是下面的异常产生的直接原因:"
   ]
  },
  {
   "cell_type": "code",
   "execution_count": null,
   "metadata": {},
   "outputs": [],
   "source": [
    "Traceback (most recent call last):\n",
    "File \"<stdin>\", line 1, in <module>\n",
    "File \"<stdin>\", line 5, in example\n",
    "RuntimeError: A parsing error occurred\n",
    ">>>"
   ]
  },
  {
   "cell_type": "markdown",
   "metadata": {},
   "source": [
    "还可以通过查看异常对象的 __cause__ 属性来跟踪异常\n",
    "链"
   ]
  },
  {
   "cell_type": "code",
   "execution_count": null,
   "metadata": {},
   "outputs": [],
   "source": [
    "try:\n",
    "    func()\n",
    "except RuntimeError as e:\n",
    "    print(\"it donot work: \", e)\n",
    "    if e.__cause__:\n",
    "        print(\"cause is \", e.__cause__)\n",
    "\n",
    "it donot work:  failed to parse int\n",
    "cause is  invalid literal for int() with base 10: 'N/A'"
   ]
  },
  {
   "cell_type": "markdown",
   "metadata": {},
   "source": [
    "在设计代码时,在另外一个 except 代码块中使用 raise 语句的时候你要特别小心\n",
    "了。大多数情况下,这种 raise 语句都应该被改成 raise from 语句。也就是说你应该\n",
    "使用下面这种形式:"
   ]
  },
  {
   "cell_type": "code",
   "execution_count": null,
   "metadata": {},
   "outputs": [],
   "source": [
    "try:\n",
    "    ...\n",
    "except SomeException as e:\n",
    "    raise DifferentException() from e"
   ]
  },
  {
   "cell_type": "markdown",
   "metadata": {},
   "source": [
    "这样做的原因\n",
    "**是你应该显示的将原因链接起来。也就是说,DifferentException是直接从 SomeException 衍生而来。这种关系可以从回溯结果中看出来。**"
   ]
  },
  {
   "cell_type": "markdown",
   "metadata": {},
   "source": [
    "## 14.10 重新抛出被捕获的异常"
   ]
  },
  {
   "cell_type": "markdown",
   "metadata": {},
   "source": [
    "想将异常传播下去。一个很常见的用法是在捕获所有异常的处理器中:"
   ]
  },
  {
   "cell_type": "code",
   "execution_count": null,
   "metadata": {},
   "outputs": [],
   "source": [
    "try:\n",
    "    ...\n",
    "except Exception as e:\n",
    "    # Process exception information in some way\n",
    "    ...\n",
    "    # Propagate the exception\n",
    "    raise"
   ]
  },
  {
   "cell_type": "markdown",
   "metadata": {},
   "source": [
    "## 14.11 输出警告信息"
   ]
  },
  {
   "cell_type": "markdown",
   "metadata": {},
   "source": [
    "要输出一个警告消息,可使用 `warning.warn()` 函数。\n",
    "\n",
    "warn() 的**参数是一个警告消息和一个警告类**,警告类有如下几种:`UserWarning,DeprecationWarning, SyntaxWarning, RuntimeWarning, ResourceWarning, 或 Future-Warning.`"
   ]
  },
  {
   "cell_type": "markdown",
   "metadata": {},
   "source": [
    "对警告的处理取决于你如何运行解释器以及一些其他配置。例如,如果你使用 `-Wall `选项去运行 Python,你会得到如下的输出:"
   ]
  },
  {
   "cell_type": "code",
   "execution_count": null,
   "metadata": {},
   "outputs": [],
   "source": [
    "bash % python3 -W all example.py\n",
    "example.py:5: DeprecationWarning: logfile argument is deprecated\n",
    "warnings.warn('logfile argument is deprecated', DeprecationWarning)"
   ]
  },
  {
   "cell_type": "markdown",
   "metadata": {},
   "source": [
    "通常来讲,警告会输出到标准错误上。如果你想讲警告转换为异常,可以使用`error` 选项:"
   ]
  },
  {
   "cell_type": "code",
   "execution_count": null,
   "metadata": {},
   "outputs": [],
   "source": [
    "bash % python3 -W error example.py\n",
    "Traceback (most recent call last):\n",
    "File \"example.py\", line 10, in <module>\n",
    "func(2, 3, logfile='log.txt')\n",
    "File \"example.py\", line 5, in func\n",
    "warnings.warn('logfile argument is deprecated', DeprecationWarning)\n",
    "DeprecationWarning: logfile argument is deprecated\n",
    "bash %"
   ]
  },
  {
   "cell_type": "markdown",
   "metadata": {},
   "source": [
    "在你维护软件,提示用户某些信息,但是又不需要将其上升为异常级别,那么输出\n",
    "警告信息就会很有用了。"
   ]
  },
  {
   "cell_type": "markdown",
   "metadata": {},
   "source": [
    "## 14.12 调试基本的程序崩溃错误"
   ]
  },
  {
   "cell_type": "markdown",
   "metadata": {},
   "source": [
    "如果你的程序因为某个异常而崩溃,运行 `python3 -i someprogram.py` **可执行简\n",
    "单的调试**。`-i 选项可让程序结束后打开一个交互式 shell`。"
   ]
  },
  {
   "cell_type": "markdown",
   "metadata": {},
   "source": [
    "当程序崩溃后，再次使用`python -i`运行python程序，在程序崩溃后打开 Python 的调试器，使用` import pdb`调试代码，打印堆栈，变量等。"
   ]
  },
  {
   "cell_type": "code",
   "execution_count": null,
   "metadata": {},
   "outputs": [],
   "source": [
    ">>> import pdb\n",
    ">>> pdb.pm()\n",
    "> sample.py(4)func()\n",
    "-> return n + 10\n",
    "(Pdb) w\n",
    "sample.py(6)<module>()\n",
    "-> func('Hello')\n",
    "> sample.py(4)func()\n",
    "-> return n + 10\n",
    "(Pdb) print n\n",
    "'Hello'\n",
    "(Pdb) q\n",
    ">>>"
   ]
  },
  {
   "cell_type": "markdown",
   "metadata": {},
   "source": [
    "如果你的代码所在的环境很难获取交互shell(比如在某个服务器上面), 通常可以\n",
    "捕获异常后自己打印跟踪信息。"
   ]
  },
  {
   "cell_type": "code",
   "execution_count": null,
   "metadata": {},
   "outputs": [],
   "source": [
    "import sys\n",
    "import traceback\n",
    "\n",
    "try:\n",
    "    func(arg)\n",
    "except:\n",
    "    print('**** AN ERROR OCCURRED ****')\n",
    "    traceback.print_exc(file=sys.stderr)"
   ]
  },
  {
   "cell_type": "markdown",
   "metadata": {},
   "source": [
    "要是你的程序没有崩溃,而只是产生了一些你看不懂的结果,你在感兴趣的地方插\n",
    "入一下 `print() 语句也是个不错的选择`。不过,要是你打算这样做,有一些小技巧可\n",
    "以帮助你。首先,`traceback.print_stack()` 函数会**在程序运行到那个点的时候创建\n",
    "一个跟踪栈**。例如:"
   ]
  },
  {
   "cell_type": "markdown",
   "metadata": {},
   "source": [
    "还可以像下面这样使用 `pdb.set_trace()` 在任何地方手动的启动调试器"
   ]
  },
  {
   "cell_type": "code",
   "execution_count": null,
   "metadata": {},
   "outputs": [],
   "source": [
    "import pdb\n",
    "def func(arg):\n",
    "    ...\n",
    "    pdb.set_trace()\n",
    "    ..."
   ]
  },
  {
   "cell_type": "markdown",
   "metadata": {},
   "source": [
    "## 14.13 给你的程序做性能测试"
   ]
  },
  {
   "cell_type": "markdown",
   "metadata": {},
   "source": [
    "## 14.14 加速程序运行"
   ]
  },
  {
   "cell_type": "markdown",
   "metadata": {},
   "source": [
    "关于程序优化的第一个准则是“不要优化”,\n",
    "\n",
    "第二个准则是“不要优化那些无关紧\n",
    "要的部分”。\n",
    "\n",
    "如果你的程序运行缓慢,首先你得使用`给你的程序做性能测试`技术先对它进行性能\n",
    "测试找到问题所在。"
   ]
  },
  {
   "cell_type": "markdown",
   "metadata": {},
   "source": [
    "`通常来讲你会发现你得程序在少数几个热点地方花费了大量时间`,比如内存的数\n",
    "据处理循环。一旦你定位到这些点,你就可以使用下面这些实用技术来加速程序运行"
   ]
  },
  {
   "cell_type": "markdown",
   "metadata": {},
   "source": [
    "### 定义在全局范围的代码运行起来要比定义在函数中运行慢的多,20~30%提升\n",
    "这种速度差异是由于局部变量和全局变量的实现方式(使用局部变量要更快些)。\n",
    "因此,如果你想让程序运行更快些,只需要将脚本语句放入函数中即可:"
   ]
  },
  {
   "cell_type": "code",
   "execution_count": null,
   "metadata": {},
   "outputs": [],
   "source": [
    "# 未知优化， 使用了全局变量，比较慢\n",
    "# somescript.py\n",
    "import csv\n",
    "import sys\n",
    "\n",
    "with open(sys.argv[1]) as f:\n",
    "    for row in csv.reader(f):\n",
    "        # Some kind of processing\n",
    "        pass\n"
   ]
  },
  {
   "cell_type": "code",
   "execution_count": null,
   "metadata": {},
   "outputs": [],
   "source": [
    "# 优化后的程序\n",
    "import sys\n",
    "import csv\n",
    "\n",
    "def main(filename):\n",
    "    with open(filename) as f:\n",
    "        for row in csv.reader(f):\n",
    "            # Some kind of processing\n",
    "            pass\n",
    "\n",
    "main(sys.argv[1])"
   ]
  },
  {
   "cell_type": "markdown",
   "metadata": {},
   "source": [
    "### 尽可能去掉属性访问, 20~30%提升，仅在多次循环中有效"
   ]
  },
  {
   "cell_type": "markdown",
   "metadata": {},
   "source": [
    "每一次使用`点 (.) 操作符`来访问属性的时候会`带来额外的开销`。它会触发特定的方法,比如 __getattribute__() 和 __getattr__() ,这些方法会进行字典操作操作。\n",
    "\n",
    "\n",
    "通常你`可以使用 from module import name` 这样的导入形式,以及使用绑定的方法。\n",
    "\n",
    "假设你有如下的代码片段:"
   ]
  },
  {
   "cell_type": "code",
   "execution_count": null,
   "metadata": {},
   "outputs": [],
   "source": [
    "import math\n",
    "\n",
    "def compute_roots(nums):\n",
    "    result = []\n",
    "    for n in nums:\n",
    "        result.append(math.sqrt(n))\n",
    "    return result\n",
    "\n",
    "# Test\n",
    "nums = range(1000000)\n",
    "for n in range(100):\n",
    "    r = compute_roots(nums)"
   ]
  },
  {
   "cell_type": "code",
   "execution_count": null,
   "metadata": {},
   "outputs": [],
   "source": [
    "from math import sqrt\n",
    "\n",
    "def compute_roots(nums):\n",
    "result = []\n",
    "result_append = result.append\n",
    "for n in nums:\n",
    "result_append(sqrt(n))\n",
    "return result"
   ]
  },
  {
   "cell_type": "markdown",
   "metadata": {},
   "source": [
    "。在内部循环中,可以将某个需要频繁访问的属\n",
    "性放入到一个局部变量中"
   ]
  },
  {
   "cell_type": "markdown",
   "metadata": {},
   "source": [
    "> **最好的性能优化是从不工作到\n",
    "工作状态的迁移”。直到你真的需要优化的时候再去考虑它。确保你程序正确的运行通\n",
    "常比让它运行更快要更重要一些**"
   ]
  },
  {
   "cell_type": "code",
   "execution_count": null,
   "metadata": {},
   "outputs": [],
   "source": []
  }
 ],
 "metadata": {
  "kernelspec": {
   "display_name": "env3",
   "language": "python",
   "name": "env3"
  },
  "language_info": {
   "codemirror_mode": {
    "name": "ipython",
    "version": 3
   },
   "file_extension": ".py",
   "mimetype": "text/x-python",
   "name": "python",
   "nbconvert_exporter": "python",
   "pygments_lexer": "ipython3",
   "version": "3.7.3"
  }
 },
 "nbformat": 4,
 "nbformat_minor": 2
}
