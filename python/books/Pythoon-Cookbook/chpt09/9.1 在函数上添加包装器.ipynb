{
 "cells": [
  {
   "cell_type": "code",
   "execution_count": 17,
   "metadata": {},
   "outputs": [],
   "source": [
    "from IPython.core.interactiveshell import InteractiveShell\n",
    "InteractiveShell.ast_node_interactivity = \"all\" "
   ]
  },
  {
   "cell_type": "markdown",
   "metadata": {},
   "source": [
    "## 9.1 在函数上添加包装器"
   ]
  },
  {
   "cell_type": "markdown",
   "metadata": {},
   "source": [
    "如果你想使用额外的代码包装一个函数,可以定义一个装饰器函数,例如:\n",
    "\n",
    "<span class=\"girk\">`@wraps(func)` 注解是很重要的,它能保留原始函数的元数据</span>"
   ]
  },
  {
   "cell_type": "code",
   "execution_count": 7,
   "metadata": {},
   "outputs": [
    {
     "name": "stdout",
     "output_type": "stream",
     "text": [
      "countdown 0.0008330345153808594\n"
     ]
    }
   ],
   "source": [
    "from functools import wraps\n",
    "import time\n",
    "\n",
    "def timethis(func):\n",
    "    @wraps(func) # ? 有无这行都可以，那么这行有什么用？\n",
    "    def wrapper(*args, **kwargs):\n",
    "        start = time.time()\n",
    "        result = func(*args, **kwargs)\n",
    "        end = time.time()\n",
    "        print(func.__name__, end-start)\n",
    "        return result\n",
    "    return wrapper\n",
    "\n",
    "@timethis\n",
    "def countdown(n):\n",
    "    while n > 0:\n",
    "        n -= 1\n",
    "\n",
    "countdown(10000)"
   ]
  },
  {
   "cell_type": "markdown",
   "metadata": {},
   "source": [
    "一个装饰器就是一个函数,它接受一个函数作为参数并返回一个新的函数。"
   ]
  },
  {
   "cell_type": "markdown",
   "metadata": {},
   "source": [
    "内置的装饰器比如 @staticmethod, @classmethod,@property 原理也是一样的。  \n",
    "以classmethod为例："
   ]
  },
  {
   "cell_type": "code",
   "execution_count": 8,
   "metadata": {},
   "outputs": [],
   "source": [
    "class A:\n",
    "    @classmethod\n",
    "    def method(cls):\n",
    "        pass\n",
    "\n",
    "# B类实现与类A等价\n",
    "class B:\n",
    "    def method(cls):\n",
    "        pass\n",
    "    method = classmethod(method)"
   ]
  },
  {
   "cell_type": "raw",
   "metadata": {},
   "source": [
    "装饰器并不会修改原始函数的参数签名以及返回值。使用 *args和 **kwargs 目的就是确保任何参数都能适用。而返回结果值基本都是调用原始函数func(*args, **kwargs) 的返回结果,其中 func 就是原始函数。"
   ]
  },
  {
   "cell_type": "markdown",
   "metadata": {},
   "source": [
    "## 9.2 创建装饰器时保留函数元信息"
   ]
  },
  {
   "cell_type": "markdown",
   "metadata": {},
   "source": [
    "如果上述的`@wraps(func)`, 这个函数的重要的元信息比如名字、文档字符串、注解和参数签名都丢失了。"
   ]
  },
  {
   "cell_type": "markdown",
   "metadata": {},
   "source": [
    "### 试试不加`@wraps`的效果"
   ]
  },
  {
   "cell_type": "code",
   "execution_count": 42,
   "metadata": {},
   "outputs": [
    {
     "data": {
      "text/plain": [
       "'wrapper'"
      ]
     },
     "execution_count": 42,
     "metadata": {},
     "output_type": "execute_result"
    },
    {
     "data": {
      "text/plain": [
       "{}"
      ]
     },
     "execution_count": 42,
     "metadata": {},
     "output_type": "execute_result"
    }
   ],
   "source": [
    "import time\n",
    "from functools import wraps\n",
    "def timethis(func):\n",
    "    '''Decorator that reports the execution time.'''\n",
    "#     @wraps(func)\n",
    "    def wrapper(*args, **kwargs):\n",
    "        start = time.time()\n",
    "        result = func(*args, **kwargs)\n",
    "        end = time.time()\n",
    "        print(func.__name__, end-start)\n",
    "        return result\n",
    "    return wrapper\n",
    "\n",
    "@timethis\n",
    "def countdown(n:int):\n",
    "    \"\"\"count down doc\"\"\"\n",
    "    while n > 0:\n",
    "        n -= 1\n",
    "\n",
    "# 打印countdown函数的元信息，\n",
    "# 期待值是\n",
    "# 'countdown'\n",
    "# 'count down doc'\n",
    "# 缺少@wraps打印丢失了元信息数据\n",
    "countdown.__name__\n",
    "countdown.__doc__\n",
    "countdown.__annotations__"
   ]
  },
  {
   "cell_type": "markdown",
   "metadata": {},
   "source": [
    "### 使用@wraps，保留被包装的函数的元数据"
   ]
  },
  {
   "cell_type": "code",
   "execution_count": 44,
   "metadata": {},
   "outputs": [
    {
     "name": "stdout",
     "output_type": "stream",
     "text": [
      "countdown 0.009287118911743164\n"
     ]
    },
    {
     "data": {
      "text/plain": [
       "'countdown'"
      ]
     },
     "execution_count": 44,
     "metadata": {},
     "output_type": "execute_result"
    },
    {
     "data": {
      "text/plain": [
       "'count down doc'"
      ]
     },
     "execution_count": 44,
     "metadata": {},
     "output_type": "execute_result"
    },
    {
     "data": {
      "text/plain": [
       "{'n': int}"
      ]
     },
     "execution_count": 44,
     "metadata": {},
     "output_type": "execute_result"
    }
   ],
   "source": [
    "import time\n",
    "from functools import wraps\n",
    "def timethis(func):\n",
    "    '''Decorator that reports the execution time.'''\n",
    "    @wraps(func)\n",
    "    def wrapper(*args, **kwargs):\n",
    "        start = time.time()\n",
    "        result = func(*args, **kwargs)\n",
    "        end = time.time()\n",
    "        print(func.__name__, end-start)\n",
    "        return result\n",
    "    return wrapper\n",
    "\n",
    "# 使用这个被包装后的函数并检查它的元信息:\n",
    "\n",
    "@timethis\n",
    "def countdown(n:int):\n",
    "    \"\"\"count down doc\"\"\"\n",
    "    while n > 0:\n",
    "        n -= 1\n",
    "\n",
    "countdown(100000)\n",
    "\n",
    "# 打印countdown函数的元信息\n",
    "countdown.__name__\n",
    "countdown.__doc__\n",
    "countdown.__annotations__"
   ]
  },
  {
   "cell_type": "markdown",
   "metadata": {},
   "source": [
    "@wraps 有一个重要特征是它能让你通过属性 __wrapped__ 直接访问被包装函数。\n",
    "例如:"
   ]
  },
  {
   "cell_type": "code",
   "execution_count": 45,
   "metadata": {},
   "outputs": [],
   "source": [
    "countdown.__wrapped__(100000) #只运行了，没额外操作"
   ]
  },
  {
   "cell_type": "markdown",
   "metadata": {},
   "source": [
    "__wrapped__ 属性还能让被装饰函数正确暴露底层的参数签名信息。"
   ]
  },
  {
   "cell_type": "code",
   "execution_count": 46,
   "metadata": {},
   "outputs": [
    {
     "name": "stdout",
     "output_type": "stream",
     "text": [
      "(n: int)\n"
     ]
    }
   ],
   "source": [
    "from inspect import signature\n",
    "print(signature(countdown))"
   ]
  },
  {
   "cell_type": "markdown",
   "metadata": {},
   "source": [
    "## 9.3 解除一个装饰器"
   ]
  },
  {
   "cell_type": "raw",
   "metadata": {},
   "source": [
    "一个装饰器已经作用在一个函数上,你想撤销它,直接访问原始的未包装的那个函数。"
   ]
  },
  {
   "cell_type": "markdown",
   "metadata": {},
   "source": [
    "假设装 饰 器 是 通 过 @wraps (参参 考__wrapped__ 属性来访问原始函数:9.2 小 节) 来 实 现 的, 那 么 你 可__wrapped__ 属性来访问原始函数:"
   ]
  },
  {
   "cell_type": "markdown",
   "metadata": {},
   "source": [
    "直接访问未包装的原始函数在调试、内省和其他函数操作时是很有用的。但局限在于:  \n",
    "- 仅仅适用于在包装器中正确使用了 @wraps 或者直接设置了 __wrapped__属性的情况。\n",
    "- 如果有多个包装器,那么访问 __wrapped__ 属性的行为是不可预知的,应该避免这样做。"
   ]
  },
  {
   "cell_type": "code",
   "execution_count": 50,
   "metadata": {},
   "outputs": [],
   "source": [
    "from functools import wraps\n",
    "\n",
    "def decorator1(func):\n",
    "    @wraps(func)\n",
    "    def wrapper(*args, **kwargs):\n",
    "        print('Decorator 1')\n",
    "        return func(*args, **kwargs)\n",
    "    return wrapper\n",
    "\n",
    "def decorator2(func):\n",
    "    @wraps(func)\n",
    "    def wrapper(*args, **kwargs):\n",
    "        print('Decorator 2')\n",
    "        return func(*args, **kwargs)\n",
    "    return wrapper\n",
    "\n",
    "@decorator1\n",
    "@decorator2\n",
    "def add(x, y):\n",
    "    return x + y"
   ]
  },
  {
   "cell_type": "code",
   "execution_count": 51,
   "metadata": {},
   "outputs": [
    {
     "name": "stdout",
     "output_type": "stream",
     "text": [
      "Decorator 1\n",
      "Decorator 2\n"
     ]
    },
    {
     "data": {
      "text/plain": [
       "5"
      ]
     },
     "execution_count": 51,
     "metadata": {},
     "output_type": "execute_result"
    }
   ],
   "source": [
    "add(2, 3)"
   ]
  },
  {
   "cell_type": "code",
   "execution_count": 53,
   "metadata": {},
   "outputs": [
    {
     "name": "stdout",
     "output_type": "stream",
     "text": [
      "Decorator 2\n"
     ]
    },
    {
     "data": {
      "text/plain": [
       "5"
      ]
     },
     "execution_count": 53,
     "metadata": {},
     "output_type": "execute_result"
    }
   ],
   "source": [
    "add.__wrapped__(2, 3)"
   ]
  },
  {
   "cell_type": "markdown",
   "metadata": {},
   "source": [
    "## 9.4 定义一个带参数的装饰器"
   ]
  },
  {
   "cell_type": "raw",
   "metadata": {},
   "source": [
    "装饰器,给函数添加日志功能,同时允许用户指定日志的级别和其他的选项"
   ]
  },
  {
   "cell_type": "code",
   "execution_count": 56,
   "metadata": {},
   "outputs": [
    {
     "data": {
      "text/plain": [
       "3"
      ]
     },
     "execution_count": 56,
     "metadata": {},
     "output_type": "execute_result"
    },
    {
     "name": "stderr",
     "output_type": "stream",
     "text": [
      "spam\n"
     ]
    },
    {
     "name": "stdout",
     "output_type": "stream",
     "text": [
      "---------\n",
      "Spam!\n"
     ]
    }
   ],
   "source": [
    "from functools import wraps\n",
    "import logging\n",
    "\n",
    "def logged(level, name=None, message=None):\n",
    "    \"\"\"\n",
    "    Add logging to a function. level is the logging\n",
    "    level, name is the logger name, and message is the\n",
    "    log message. If name and message aren't specified,\n",
    "    they default to the function's module and name.\n",
    "    \"\"\"\n",
    "    def decorate(func):\n",
    "        logname = name if name else func.__module__\n",
    "        log = logging.getLogger(logname)\n",
    "        logmsg = message if message else func.__name__\n",
    "        @wraps(func)\n",
    "        def wrapper(*args, **kwargs):\n",
    "            log.log(level, logmsg)\n",
    "            return func(*args, **kwargs)\n",
    "        return wrapper\n",
    "\n",
    "    return decorate\n",
    "\n",
    "# Example use\n",
    "@logged(logging.DEBUG)\n",
    "def add(x, y):\n",
    "    return x + y\n",
    "\n",
    "@logged(logging.CRITICAL, \"example\")\n",
    "def spam():\n",
    "    print('Spam!')\n",
    "\n",
    "add(1,2)\n",
    "print('---------')\n",
    "spam()"
   ]
  },
  {
   "cell_type": "markdown",
   "metadata": {},
   "source": [
    "#### 原理:"
   ]
  },
  {
   "cell_type": "raw",
   "metadata": {},
   "source": [
    "@decorator(x, y, z)\n",
    "def func(a, b):\n",
    "    pass\n",
    "# 等价于\n",
    "def func(a, b):\n",
    "    pass\n",
    "func = decorator(x, y, z)(func)"
   ]
  },
  {
   "cell_type": "code",
   "execution_count": null,
   "metadata": {},
   "outputs": [],
   "source": []
  }
 ],
 "metadata": {
  "kernelspec": {
   "display_name": "env3",
   "language": "python",
   "name": "env3"
  },
  "language_info": {
   "codemirror_mode": {
    "name": "ipython",
    "version": 3
   },
   "file_extension": ".py",
   "mimetype": "text/x-python",
   "name": "python",
   "nbconvert_exporter": "python",
   "pygments_lexer": "ipython3",
   "version": "3.7.3"
  }
 },
 "nbformat": 4,
 "nbformat_minor": 2
}
