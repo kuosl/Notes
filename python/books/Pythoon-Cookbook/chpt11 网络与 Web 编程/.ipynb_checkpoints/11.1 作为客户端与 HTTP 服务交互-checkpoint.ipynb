{
 "cells": [
  {
   "cell_type": "markdown",
   "metadata": {},
   "source": [
    "## 11.1 作为客户端与 HTTP 服务交互"
   ]
  },
  {
   "cell_type": "markdown",
   "metadata": {},
   "source": [
    "关于 requests 库,一个值得一提的特性就是它能以多种方式从请求中返回响应结果的内容。\n",
    "- 从上面的代码来看,resp.text 带给我们的是以 Unicode 解码的响应文本。\n",
    "- 但是,如果去访问 resp.content ,就会得到原始的二进制数据。\n",
    "- 另一方面,如果访问resp.json ,那么就会得到 JSON 格式的响应内容。"
   ]
  },
  {
   "cell_type": "markdown",
   "metadata": {},
   "source": [
    "利用 requests 库发起一个 HEAD 请求,并从响应中提取出一些HTTP 头数据的字段"
   ]
  },
  {
   "cell_type": "code",
   "execution_count": null,
   "metadata": {},
   "outputs": [],
   "source": [
    "import requests\n",
    "resp = requests.head('www.baidu.com')\n",
    "status = resp.status_code\n",
    "last_modified = resp.headers['last-modified']\n",
    "content_type = resp.headers['content-type']\n",
    "content_length = resp.headers['content-length']\n",
    "print(resp.headers)"
   ]
  },
  {
   "cell_type": "markdown",
   "metadata": {},
   "source": [
    "## 11.2 创建 TCP 服务器"
   ]
  },
  {
   "cell_type": "markdown",
   "metadata": {},
   "source": [
    "创建一个 TCP 服务器的一个简单方法是使用 socketserver 库。"
   ]
  },
  {
   "cell_type": "markdown",
   "metadata": {},
   "source": [
    "最后,还需要注意的是**巨大部分 Python 的高层网络模块(比如 HTTP、 XML-RPC\n",
    "等)都是建立在 socketserver 功能之上**。也就是说,直接使用 socket 库来实现服务\n",
    "器也并不是很难。"
   ]
  },
  {
   "cell_type": "markdown",
   "metadata": {},
   "source": [
    "## 11.3 创建 UDP 服务器"
   ]
  },
  {
   "cell_type": "markdown",
   "metadata": {},
   "source": [
    "跟 TCP 一样,UDP 服务器也可以通过使用 socketserver 库很容易的被创建。例\n",
    "如"
   ]
  },
  {
   "cell_type": "markdown",
   "metadata": {},
   "source": [
    "你先定义一个实现 handle() 特殊方法的类,为客户端连接服务。这\n",
    "个类的 request 属性是一个包含了数据报和底层 socket 对象的元组。client_address\n",
    "包含了客户端地址。"
   ]
  },
  {
   "cell_type": "code",
   "execution_count": null,
   "metadata": {},
   "outputs": [],
   "source": [
    "from socketserver import BaseRequestHandler, UDPServer\n",
    "import time\n",
    "\n",
    "class TimeHandler(BaseRequestHandler):\n",
    "    def handle(self):\n",
    "        print('Got connection from', self.client_address)\n",
    "        # Get message and client socket\n",
    "        msg, sock = self.request\n",
    "        resp = time.ctime()\n",
    "        sock.sendto(resp.encode('ascii'), self.client_address)\n",
    "\n",
    "if __name__ == '__main__':\n",
    "    serv = UDPServer(('', 20000), TimeHandler)\n",
    "    serv.serve_forever()"
   ]
  },
  {
   "cell_type": "markdown",
   "metadata": {},
   "source": [
    "一个典型的 UDP 服务器接收到达的数据报 (消息) 和客户端地址。如果服务器需\n",
    "要做应答,它要给客户端回发一个数据报。对于数据报的传送,你应该使用 socket 的\n",
    "sendto() 和 recvfrom() 方法。尽管传统的 send() 和 recv() 也可以达到同样的效果,\n",
    "但是前面的两个方法对于 UDP 连接而言更普遍。"
   ]
  },
  {
   "cell_type": "markdown",
   "metadata": {},
   "source": [
    "## 11.7 在不同的 Python 解释器之间交互"
   ]
  },
  {
   "cell_type": "markdown",
   "metadata": {},
   "source": [
    "通过使用 multiprocessing.connection 模块可以很容易的实现解释器之间的通\n",
    "信。"
   ]
  },
  {
   "cell_type": "markdown",
   "metadata": {},
   "source": [
    "## 11.9 简单的客户端认证"
   ]
  },
  {
   "cell_type": "markdown",
   "metadata": {},
   "source": [
    "基本原理<span class=\"girk\">是当连接建立后,服务器给客户端发送一个随机的字节消息(这里例子\n",
    "中使用了 os.urandom() 返回值)。客户端和服务器同时利用 hmac 和一个只有双方知\n",
    "道的密钥来计算出一个加密哈希值。然后客户端将它计算出的摘要发送给服务器,服务\n",
    "器通过比较这个值和自己计算的是否一致来决定接受或拒绝连接。摘要的比较需要使\n",
    "用 hmac.compare_digest() 函数。使用这个函数可以避免遭到时间分析攻击,不要用\n",
    "简单的比较操作符(==)。为了使用这些函数,你需要将它集成到已有的网络或消息\n",
    "代码中</span>。"
   ]
  },
  {
   "cell_type": "code",
   "execution_count": 1,
   "metadata": {},
   "outputs": [],
   "source": [
    "import hmac\n",
    "import os\n",
    "\n",
    "def client_authenticate(connection, secret_key):\n",
    "    '''\n",
    "    Authenticate client to a remote service.\n",
    "    connection represents a network connection.\n",
    "    secret_key is a key known only to both client/server.\n",
    "    '''\n",
    "    message = connection.recv(32)\n",
    "    hash = hmac.new(secret_key, message)\n",
    "    digest = hash.digest()\n",
    "    connection.send(digest)\n",
    "    \n",
    "def server_authenticate(connection, secret_key):\n",
    "    '''\n",
    "    Request client authentication.\n",
    "    '''\n",
    "    message = os.urandom(32)\n",
    "    connection.send(message)\n",
    "    hash = hmac.new(secret_key, message)\n",
    "    digest = hash.digest()\n",
    "    response = connection.recv(len(digest))\n",
    "    return hmac.compare_digest(digest,response)"
   ]
  },
  {
   "cell_type": "markdown",
   "metadata": {},
   "source": [
    "例如,对于 sockets,服务器代码应该类似下面: *使用以上代码*"
   ]
  },
  {
   "cell_type": "code",
   "execution_count": null,
   "metadata": {},
   "outputs": [],
   "source": [
    "from socket import socket, AF_INET, SOCK_STREAM\n",
    "\n",
    "secret_key = b'peekaboo'\n",
    "\n",
    "def echo_handler(client_sock):\n",
    "    if not server_authenticate(client_sock, secret_key):\n",
    "        client_sock.close()\n",
    "        return\n",
    "    while True:\n",
    "        msg = client_sock.recv(8192)\n",
    "        if not msg:\n",
    "            break\n",
    "        client_sock.sendall(msg)\n",
    "\n",
    "def echo_server(address):\n",
    "    s = socket(AF_INET, SOCK_STREAM)\n",
    "    s.bind(address)\n",
    "    s.listen(5)\n",
    "    while True:\n",
    "        c,a = s.accept()\n",
    "        echo_handler(c)\n",
    "        \n",
    "echo_server(('', 18000))\n",
    "\n",
    "# Within a client, you would do this:\n",
    "\n",
    "from socket import socket, AF_INET, SOCK_STREAM\n",
    "\n",
    "secret_key = b'peekaboo'\n",
    "s = socket(AF_INET, SOCK_STREAM)\n",
    "s.connect(('localhost', 18000))\n",
    "client_authenticate(s, secret_key)\n",
    "s.send(b'Hello World')\n",
    "resp = s.recv(1024)"
   ]
  },
  {
   "cell_type": "markdown",
   "metadata": {},
   "source": [
    "**<span class=\"mark\">hmac 认证的一个常见使用场景是内部消息通信系统和进程间通信</span>。**\n",
    "\n",
    "例如,如果你\n",
    "编写的系统涉及到一个集群中多个处理器之间的通信,你可以使用本节方案来确保只\n",
    "有被允许的进程之间才能彼此通信。*事实上,基于 hmac 的认证被 multiprocessing 模\n",
    "块使用来实现子进程直接的通信。*"
   ]
  },
  {
   "cell_type": "markdown",
   "metadata": {},
   "source": [
    "**<span class=\"mark\">连接认证和加密是两码事</span>。**认证成功之后的通信消息是以\n",
    "明文形式发送的,任何人只要想监听这个连接线路都能看到消息(尽管双方的密钥不\n",
    "会被传输)。\n",
    "hmac 认证算法基于哈希函数如 MD5 和 SHA-1"
   ]
  },
  {
   "cell_type": "markdown",
   "metadata": {},
   "source": [
    "## 11.10 在网络服务中加入 SSL"
   ]
  },
  {
   "cell_type": "markdown",
   "metadata": {},
   "source": [
    "客户端和服务器通过 SSL 协议认证并加\n",
    "密传输的数据。\n",
    "\n",
    "ssl 模块能为底层 socket 连接添加 SSL 的支持。ssl.wrap_socket() 函数接受一\n",
    "个已存在的 socket 作为参数并使用 SSL 层来包装它。"
   ]
  },
  {
   "cell_type": "markdown",
   "metadata": {},
   "source": [
    "例如,下面是一个简单的应答服\n",
    "务器,能在服务器端为所有客户端连接做认证。"
   ]
  },
  {
   "cell_type": "code",
   "execution_count": null,
   "metadata": {},
   "outputs": [],
   "source": [
    "from socket import socket, AF_INET, SOCK_STREAM\n",
    "import ssl\n",
    "\n",
    "KEYFILE = 'server_key.pem' # Private key of the server\n",
    "CERTFILE = 'server_cert.pem' # Server certificate (given to client)\n",
    "\n",
    "def echo_client(s):\n",
    "    while True:\n",
    "        data = s.recv(8192)\n",
    "        if data == b'':\n",
    "            break\n",
    "        s.send(data)\n",
    "        s.close()\n",
    "    print('Connection closed')\n",
    "    \n",
    "def echo_server(address):\n",
    "    s = socket(AF_INET, SOCK_STREAM)\n",
    "    s.bind(address)\n",
    "    s.listen(1)\n",
    "   \n",
    "    # Wrap with an SSL layer requiring client certs\n",
    "    s_ssl = ssl.wrap_socket(s,\n",
    "        keyfile=KEYFILE,\n",
    "        certfile=CERTFILE,\n",
    "        server_side=True\n",
    "                           )\n",
    "    )\n",
    "    \n",
    "    # Wait for connections\n",
    "    while True:\n",
    "    try:\n",
    "        c,a = s_ssl.accept()\n",
    "        print('Got connection', c, a)\n",
    "        echo_client(c)\n",
    "    except Exception as e:\n",
    "        print('{}: {}'.format(e.__class__.__name__, e))\n",
    "    \n",
    "echo_server(('', 20000))\n"
   ]
  },
  {
   "cell_type": "markdown",
   "metadata": {},
   "source": [
    "一个客户端连接服务器的交互例子。  \n",
    "客户端会请求服务器来认证并确认连接:需要引用到服务器端给客户的pem文件"
   ]
  },
  {
   "cell_type": "code",
   "execution_count": null,
   "metadata": {},
   "outputs": [],
   "source": [
    ">>> from socket import socket, AF_INET, SOCK_STREAM\n",
    ">>> import ssl\n",
    ">>> s = socket(AF_INET, SOCK_STREAM)\n",
    ">>> s_ssl = ssl.wrap_socket(s,\n",
    "        cert_reqs=ssl.CERT_REQUIRED,\n",
    "        ca_certs = 'server_cert.pem')\n",
    ">>> s_ssl.connect(('localhost', 20000))\n",
    ">>> s_ssl.send(b'Hello World?')\n",
    "12\n",
    ">>> s_ssl.recv(8192)\n",
    "b'Hello World?'\n",
    ">>>"
   ]
  },
  {
   "cell_type": "markdown",
   "metadata": {},
   "source": [
    "每一个 SSL 连接终端一般都会有`一个私钥`和一个`签名证\n",
    "书文件`。这个`证书包含了公钥并在每一次连接的时候都会发送给对方`。对于`公共服务\n",
    "器,它们的证书通常是被权威证书机构比如 Verisign、Equifax 或其他类似机构(需要\n",
    "付费的)签名过的`。`为了确认服务器签名,客户端回保存一份包含了信任授权机构的\n",
    "证书列表文件`。例如,web 浏览器保存了主要的认证机构的证书,并使用它来为每一个\n",
    "HTTPS 连接确认证书的合法性。"
   ]
  },
  {
   "cell_type": "markdown",
   "metadata": {},
   "source": [
    "## 11.11 进程间传递 Socket 文件描述符"
   ]
  },
  {
   "cell_type": "markdown",
   "metadata": {},
   "source": [
    "## 11.12 理解事件驱动的 IO"
   ]
  },
  {
   "cell_type": "markdown",
   "metadata": {},
   "source": [
    "事件驱动 I/O 本质上来讲就是将基本 I/O 操作(比如读和写)转化为你程序需要\n",
    "处理的事件。例如,当数据在某个 socket 上被接受后,它会转换成一个 receive 事件,\n",
    "然后被你定义的回调方法或函数来处理。"
   ]
  },
  {
   "cell_type": "code",
   "execution_count": null,
   "metadata": {},
   "outputs": [],
   "source": [
    "class EventHandler:\n",
    "    def fileno(self):\n",
    "        'Return the associated file descriptor'\n",
    "        raise NotImplemented('must implement')\n",
    "    def wants_to_receive(self):\n",
    "        'Return True if receiving is allowed'\n",
    "        return False\n",
    "    def handle_receive(self):\n",
    "        'Perform the receive operation'\n",
    "        pass\n",
    "    def wants_to_send(self):\n",
    "        'Return True if sending is requested'\n",
    "        return False\n",
    "    def handle_send(self):\n",
    "        'Send outgoing data'\n",
    "        pass"
   ]
  },
  {
   "cell_type": "code",
   "execution_count": null,
   "metadata": {},
   "outputs": [],
   "source": [
    "import select\n",
    "\n",
    "def event_loop(handlers):\n",
    "    while True:\n",
    "        wants_recv = [h for h in handlers if h.wants_to_receive()]\n",
    "        wants_send = [h for h in handlers if h.wants_to_send()]  \n",
    "        can_recv, can_send, _ = select.select(wants_recv, wants_send, [])  \n",
    "        for h in can_recv:\n",
    "                h.handle_receive()\n",
    "        for h in can_send:\n",
    "            h.handle_send()"
   ]
  },
  {
   "cell_type": "markdown",
   "metadata": {},
   "source": [
    "<span class=\"girk\">事件循环的关键部分是 select() 调用,它会不断轮询文件描述符从而激活它。在\n",
    "调用 select() 之前,时间循环会询问所有的处理器来决定哪一个想接受或发生。然后\n",
    "它将结果列表提供给 select() 。然后 select() 返回准备接受或发送的对象组成的列\n",
    "表。然后相应的 handle_receive() 或 handle_send() 方法被触发。</span>"
   ]
  },
  {
   "cell_type": "code",
   "execution_count": null,
   "metadata": {},
   "outputs": [],
   "source": [
    "from concurrent.futures import ThreadPoolExecutor\n",
    "\n",
    "pool = ThreadPoolExecutor(nworkers)\n",
    "pool.submit(func, *args, **kwargs)"
   ]
  },
  {
   "cell_type": "markdown",
   "metadata": {},
   "source": [
    "## 11.13 发送与接收大型数组"
   ]
  },
  {
   "cell_type": "markdown",
   "metadata": {},
   "source": [
    "大型数组,并尽量减少数据的复制操作。\n",
    "利用 `memoryviews`"
   ]
  },
  {
   "cell_type": "code",
   "execution_count": null,
   "metadata": {},
   "outputs": [],
   "source": [
    "view = memoryview(arr).cast('B')\n",
    "while len(view):\n",
    "    nsent = dest.send(view)\n",
    "    view = view[nsent:]"
   ]
  }
 ],
 "metadata": {
  "kernelspec": {
   "display_name": "env3",
   "language": "python",
   "name": "env3"
  },
  "language_info": {
   "codemirror_mode": {
    "name": "ipython",
    "version": 3
   },
   "file_extension": ".py",
   "mimetype": "text/x-python",
   "name": "python",
   "nbconvert_exporter": "python",
   "pygments_lexer": "ipython3",
   "version": "3.7.3"
  },
  "toc": {
   "base_numbering": 1,
   "nav_menu": {},
   "number_sections": true,
   "sideBar": true,
   "skip_h1_title": false,
   "title_cell": "Table of Contents",
   "title_sidebar": "Contents",
   "toc_cell": false,
   "toc_position": {},
   "toc_section_display": true,
   "toc_window_display": false
  }
 },
 "nbformat": 4,
 "nbformat_minor": 2
}
