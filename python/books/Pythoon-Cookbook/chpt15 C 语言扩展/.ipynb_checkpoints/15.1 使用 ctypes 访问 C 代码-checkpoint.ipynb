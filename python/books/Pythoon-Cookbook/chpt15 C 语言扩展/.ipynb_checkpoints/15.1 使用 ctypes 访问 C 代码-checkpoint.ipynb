{
 "cells": [
  {
   "cell_type": "markdown",
   "metadata": {},
   "source": [
    "## 15.1 使用 ctypes 访问 C 代码"
   ]
  },
  {
   "cell_type": "markdown",
   "metadata": {},
   "source": [
    "对于需要调用 C 代码的一些小的问题,通常使用 Python 标准库中的 `ctypes 模块`\n",
    "就足够了。要使用 ctypes ,你首先要确保你要访问的 C 代码已经被编译到和 Python\n",
    "解释器兼容(同样的架构、字大小、编译器等)的某个共享库中了。"
   ]
  },
  {
   "cell_type": "markdown",
   "metadata": {},
   "source": [
    "要访问这个函数库,你要先构建一个包装它的 Python 模块,如下这样:"
   ]
  },
  {
   "cell_type": "code",
   "execution_count": null,
   "metadata": {},
   "outputs": [],
   "source": [
    "# sample.py\n",
    "import ctypes\n",
    "import os\n",
    "\n",
    "# Try to locate the .so file in the same directory as this file\n",
    "_file = 'libsample.so'\n",
    "_path = os.path.join(*(os.path.split(__file__)[:-1] + (_file,)))\n",
    "_mod = ctypes.cdll.LoadLibrary(_path)\n",
    "\n",
    "# int divide(int, int, int *)\n",
    "_divide = _mod.divide\n",
    "_divide.argtypes = (ctypes.c_int, ctypes.c_int, ctypes.POINTER(ctypes.c_int))\n",
    "_divide.restype = ctypes.c_int\n",
    "\n",
    "def divide(x, y):\n",
    "    rem = ctypes.c_int()\n",
    "    quot = _divide(x, y, rem)\n",
    "    return quot,rem.value"
   ]
  },
  {
   "cell_type": "markdown",
   "metadata": {},
   "source": [
    "如果 C 函数库在\n",
    "你机器上被安装为一个标准库了,那么可以使用 `ctypes.util.find_library()` 函数\n",
    "来查找:"
   ]
  },
  {
   "cell_type": "code",
   "execution_count": null,
   "metadata": {},
   "outputs": [],
   "source": [
    ">>> from ctypes.util import find_library\n",
    ">>> find_library('m')\n",
    "'/usr/lib/libm.dylib'\n",
    ">>> find_library('pthread')\n",
    "'/usr/lib/libpthread.dylib'\n",
    ">>> find_library('sample')\n",
    "'/usr/local/lib/libsample.so'"
   ]
  },
  {
   "cell_type": "markdown",
   "metadata": {},
   "source": [
    "一 旦 你 知 道 了 C 函 数 库 的 位 置, 那 么 就 可 以 像 下 面 这 样 使 用`LoadLibrary()` 来加载它,其中 _path 是标准库的全路径:\n",
    "`_mod = ctypes.cdll.LoadLibrary(_path)`"
   ]
  },
  {
   "cell_type": "markdown",
   "metadata": {},
   "source": [
    "`.argtypes 属性`是一个元组,包含了某个函数的输入按时,而 .\n",
    "`restype 就是相应的返回类型`。"
   ]
  },
  {
   "cell_type": "markdown",
   "metadata": {},
   "source": [
    "作为 ctypes 的一个替代,你还`可以考虑下 CFF`I。CFFI 提供了很多类似的功能,\n",
    "但是使用 C 语法`并支持更多高级的 C 代码类型`。"
   ]
  },
  {
   "cell_type": "code",
   "execution_count": null,
   "metadata": {},
   "outputs": [],
   "source": []
  }
 ],
 "metadata": {
  "kernelspec": {
   "display_name": "env3",
   "language": "python",
   "name": "env3"
  },
  "language_info": {
   "codemirror_mode": {
    "name": "ipython",
    "version": 3
   },
   "file_extension": ".py",
   "mimetype": "text/x-python",
   "name": "python",
   "nbconvert_exporter": "python",
   "pygments_lexer": "ipython3",
   "version": "3.7.3"
  }
 },
 "nbformat": 4,
 "nbformat_minor": 2
}
