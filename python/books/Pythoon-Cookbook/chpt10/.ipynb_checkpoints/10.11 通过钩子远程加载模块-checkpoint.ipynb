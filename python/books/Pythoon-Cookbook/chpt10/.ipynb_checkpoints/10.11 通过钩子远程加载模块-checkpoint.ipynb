{
 "cells": [
  {
   "cell_type": "markdown",
   "metadata": {},
   "source": [
    "## 10.11 通过钩子远程加载模块"
   ]
  },
  {
   "cell_type": "markdown",
   "metadata": {},
   "source": [
    "## 10.12 导入模块的同时修改模块"
   ]
  },
  {
   "cell_type": "markdown",
   "metadata": {},
   "source": [
    "## 10.13 安装私有的包"
   ]
  },
  {
   "cell_type": "markdown",
   "metadata": {},
   "source": [
    "你想要安装一个第三方包,但是没有权限将它安装到系统 Python 库中去。或者,\n",
    "你可能想要安装一个供自己使用的包,而不是系统上面所有用户。\n",
    "\n",
    "解决方案:\n",
    "Python 有一个用户安装目录,通常类似”~/.local/lib/python3.3/site-packages”。\n",
    "要强制在这个目录中安装包,可使用安装选项“–user”。例如"
   ]
  },
  {
   "cell_type": "code",
   "execution_count": null,
   "metadata": {},
   "outputs": [],
   "source": [
    "python3 setup.py install --user\n",
    "pip install --user packagename"
   ]
  },
  {
   "cell_type": "markdown",
   "metadata": {},
   "source": [
    "在 sys.path 中用户的“site-packages”目录位于系统的“site-packages”目录之前。\n",
    "因此,**你安装在里面的包就比系统已安装的包优先级高**(尽管并不总是这样,要取决于\n",
    "第三方包管理器,比如 distribute 或 pip)。 "
   ]
  },
  {
   "cell_type": "markdown",
   "metadata": {},
   "source": [
    "## 10.15 分发包"
   ]
  },
  {
   "cell_type": "markdown",
   "metadata": {},
   "source": [
    "如果你想分发你的代码\n",
    "- 第一件事就是给它一个唯一的名字,并且清理它的目录结构。"
   ]
  },
  {
   "cell_type": "raw",
   "metadata": {},
   "source": [
    "projectname/\n",
    "    README.txt\n",
    "    Doc/\n",
    "        documentation.txt\n",
    "    projectname/\n",
    "        __init__.py\n",
    "        foo.py\n",
    "        bar.py\n",
    "        utils/\n",
    "            __init__.py\n",
    "            spam.py\n",
    "            grok.py\n",
    "    examples/\n",
    "        helloworld.py\n",
    "        ..."
   ]
  },
  {
   "cell_type": "markdown",
   "metadata": {},
   "source": [
    "- 要让你的包可以发布出去,首先你要编写一个 setup.py"
   ]
  },
  {
   "cell_type": "code",
   "execution_count": null,
   "metadata": {},
   "outputs": [],
   "source": [
    "# setup.py\n",
    "from distutils.core import setup\n",
    "setup(name='projectname',\n",
    "version='1.0',\n",
    "author='Your Name',\n",
    "author_email='you@youraddress.com',\n",
    "url='http://www.you.com/projectname',\n",
    "packages=['projectname', 'projectname.utils'],\n",
    ")"
   ]
  },
  {
   "cell_type": "markdown",
   "metadata": {},
   "source": [
    "- 下一步,就是创建一个 MANIFEST.in 文件,列出所有在你的包中需要包含进来的**非源码文件**:"
   ]
  },
  {
   "cell_type": "code",
   "execution_count": null,
   "metadata": {},
   "outputs": [],
   "source": [
    "# MANIFEST.in\n",
    "include *.txt\n",
    "recursive-include examples *\n",
    "recursive-include Doc *"
   ]
  },
  {
   "cell_type": "markdown",
   "metadata": {},
   "source": [
    "- 确保 setup.py 和 MANIFEST.in 文件放在你的包的最顶级目录中。一旦你已经做了这些,你就可以像下面这样执行命令来创建一个源码分发包了:"
   ]
  },
  {
   "cell_type": "code",
   "execution_count": null,
   "metadata": {},
   "outputs": [],
   "source": [
    "% bash python3 setup.py sdist"
   ]
  },
  {
   "cell_type": "markdown",
   "metadata": {},
   "source": [
    "它会创建一个文件比如”projectname-1.0.zip”或“projectname-1.0.tar.gz”"
   ]
  },
  {
   "cell_type": "markdown",
   "metadata": {},
   "source": [
    "> 。一个可能的问\n",
    "题是你必须手动列出所有构成包源码的子目录。一个常见错误就是仅仅只列出一个包的最顶级目录,忘记了包含包的子组件。这也是为什么在 setup.py 中对于包的说明包含了列表 packages=['projectname', 'projectname.utils']\n",
    "\n",
    "> 大部分 Python 程序员都知道,有很多第三方包管理器供选择,包括 setuptools、distribute 等等。"
   ]
  },
  {
   "cell_type": "code",
   "execution_count": null,
   "metadata": {},
   "outputs": [],
   "source": []
  }
 ],
 "metadata": {
  "kernelspec": {
   "display_name": "env3",
   "language": "python",
   "name": "env3"
  },
  "language_info": {
   "codemirror_mode": {
    "name": "ipython",
    "version": 3
   },
   "file_extension": ".py",
   "mimetype": "text/x-python",
   "name": "python",
   "nbconvert_exporter": "python",
   "pygments_lexer": "ipython3",
   "version": "3.7.3"
  }
 },
 "nbformat": 4,
 "nbformat_minor": 2
}
