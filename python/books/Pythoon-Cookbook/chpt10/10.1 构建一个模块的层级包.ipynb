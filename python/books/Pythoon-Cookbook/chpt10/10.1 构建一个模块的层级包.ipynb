{
 "cells": [
  {
   "cell_type": "markdown",
   "metadata": {},
   "source": [
    "## 10.1 构建一个模块的层级包"
   ]
  },
  {
   "cell_type": "markdown",
   "metadata": {},
   "source": [
    "封装成包是很简单的。在文件系统上组织你的代码,并`确保每个目录都定义了一个\n",
    "__init__.py 文件`。"
   ]
  },
  {
   "cell_type": "markdown",
   "metadata": {},
   "source": [
    "定义模块的层次结构就像在文件系统上建立目录结构一样容易。文件 `__init__.py`\n",
    "的目的是要`包含不同运行级别的包的可选的初始化代码`。举个例子,如果你执行了语句\n",
    "import graphics,文件 graphics/\\_\\_init\\_\\_.py 将被导入, 建立 graphics 命名空间的内容。\n",
    "像 import graphics.format.jpg 这样导入,文件 graphics/\\_\\_init\\_\\_.py 和文件 graphics/\n",
    "formats/\\_\\_init\\_\\_.py 将在文件 graphics/formats/jpg.py 导入之前导入。\n",
    "\n",
    "导入子模块时，父模块的`__init__.py`会在它的各个子模块的`__init__.py`之前执行"
   ]
  },
  {
   "cell_type": "markdown",
   "metadata": {},
   "source": [
    "绝大部分时候让 `__init__.py` 空着就好。但是有些情况下可能包含代码。举个例\n",
    "子,`__init__.py` 能够用来自动加载子模块:"
   ]
  },
  {
   "cell_type": "raw",
   "metadata": {},
   "source": [
    "# 像这样一个文件, 用户可以仅仅通过 import grahpics.formats 来代替 import graph-\n",
    "ics.formats.jpg 以及 import graphics.formats.png。\n",
    "\n",
    "# graphics/formats/__init__.py\n",
    "from . import jpg\n",
    "from . import png"
   ]
  },
  {
   "cell_type": "markdown",
   "metadata": {},
   "source": [
    "`__init__.py`的其他常用用法包括将多个文件合并到一个逻辑命名空间"
   ]
  },
  {
   "cell_type": "markdown",
   "metadata": {},
   "source": [
    "## 10.2 控制模块被全部导入的内容"
   ]
  },
  {
   "cell_type": "markdown",
   "metadata": {},
   "source": [
    "### 目的：\n",
    "当使用’from module import *’语句时,希望对从模块或包导出的符号进行精确控制。\n",
    "在你的模块中定义一个变量 `__all__` 来明确地列出需要导出的内容。\n",
    "\n"
   ]
  },
  {
   "cell_type": "code",
   "execution_count": 2,
   "metadata": {},
   "outputs": [],
   "source": [
    "# somemodule.py\n",
    "def spam():\n",
    "    pass\n",
    "def grok():\n",
    "    pass\n",
    "blah = 42\n",
    "# Only export 'spam' and 'grok'\n",
    "__all__ = ['spam', 'grok']"
   ]
  },
  {
   "cell_type": "markdown",
   "metadata": {},
   "source": [
    "## 10.3 使用相对路径名导入包中子模块"
   ]
  },
  {
   "cell_type": "markdown",
   "metadata": {},
   "source": [
    "### 问题\n",
    "将代码组织成包, 想用 import 语句从另一个包名没有硬编码过的包的中导入子模\n",
    "块。"
   ]
  },
  {
   "cell_type": "raw",
   "metadata": {},
   "source": [
    "mypackage/\n",
    "    __init__.py\n",
    "    A/\n",
    "        __init__.py\n",
    "        spam.py\n",
    "        grok.py\n",
    "    B/\n",
    "        __init__.py\n",
    "        bar.py"
   ]
  },
  {
   "cell_type": "raw",
   "metadata": {},
   "source": [
    "如果模块 mypackage.A.spam 要导入同目录下的模块 grok,它应该包括的 import语句如下:"
   ]
  },
  {
   "cell_type": "code",
   "execution_count": 5,
   "metadata": {},
   "outputs": [],
   "source": [
    "# mypackage/A/spam.py\n",
    "from . import grok"
   ]
  },
  {
   "cell_type": "raw",
   "metadata": {},
   "source": [
    "如果模块 mypackage.A.spam 要导入不同目录下的模块 B.bar,它应该使用的 import 语句如下:"
   ]
  },
  {
   "cell_type": "code",
   "execution_count": null,
   "metadata": {},
   "outputs": [],
   "source": [
    "# mypackage/A/spam.py\n",
    "from ..B import bar"
   ]
  },
  {
   "cell_type": "markdown",
   "metadata": {},
   "source": [
    "两个 import 语句都没包含顶层包名,而是使用了 spam.py 的相对路径。"
   ]
  },
  {
   "cell_type": "markdown",
   "metadata": {},
   "source": [
    "在包内,既可以使用相对路径也可以使用绝对路径来导入。"
   ]
  },
  {
   "cell_type": "code",
   "execution_count": null,
   "metadata": {},
   "outputs": [],
   "source": [
    "# mypackage/A/spam.py\n",
    "from mypackage.A import grok # OK\n",
    "from . import grok # OK\n",
    "import grok # Error (not found)"
   ]
  },
  {
   "cell_type": "markdown",
   "metadata": {},
   "source": [
    "像 mypackage.A 这样使用绝对路径名的不利之处是这将顶层包名硬编码到你的源\n",
    "码中。如果你想重新组织它,你的代码将更脆,很难工作。举个例子,如果你改变了包\n",
    "名,你就必须检查所有文件来修正源码。同样,硬编码的名称会使移动代码变得困难。\n",
    "举个例子,也许有人想安装两个不同版本的软件包,只通过名称区分它们。如果使用相\n",
    "对导入,那一切都 ok,然而使用绝对路径名很可能会出问题。"
   ]
  },
  {
   "cell_type": "markdown",
   "metadata": {},
   "source": [
    "## 10.4 将模块分割成多个文件"
   ]
  },
  {
   "cell_type": "markdown",
   "metadata": {},
   "source": [
    "L**需求**： 你想将一个模块分割成多个文件。但是你不想将分离的文件统一成一个逻辑模块时使已有的代码遭到破坏。\n",
    "\n",
    "**解决办法**: 将大文件拆开后，创建一个文件夹，将拆分成的小文件放置期内，在文件夹内建立一个`__init__.py`文件。这个`__init__.py`内容如下:"
   ]
  },
  {
   "cell_type": "code",
   "execution_count": null,
   "metadata": {},
   "outputs": [],
   "source": [
    "# 文件夹内容\n",
    "# mymodule/\n",
    "#     __init__.py\n",
    "#     a.py\n",
    "#     b.py\n",
    "# \n",
    "# __init__.py\n",
    "from .a import A\n",
    "from .b import B"
   ]
  },
  {
   "cell_type": "raw",
   "metadata": {},
   "source": [
    "如果按照这些步骤,所产生的包 MyModule 将作为一个单一的逻辑模块:"
   ]
  },
  {
   "cell_type": "raw",
   "metadata": {},
   "source": [
    ">>> import mymodule\n",
    ">>> a = mymodule.A()\n",
    ">>> a.spam()\n",
    "A.spam\n",
    ">>> b = mymodule.B()\n",
    ">>> b.bar()\n",
    "B.bar\n",
    ">>>\n"
   ]
  },
  {
   "cell_type": "markdown",
   "metadata": {},
   "source": [
    "## 10.5 利用命名空间导入目录分散的代码"
   ]
  },
  {
   "cell_type": "raw",
   "metadata": {},
   "source": [
    "在统一不同的目录里统一相同的命名空间,\n",
    "但是要删去用来将组件联合起来的__init__.py 文件。假设你有 Python 代码的两个不同的目录如下:"
   ]
  },
  {
   "cell_type": "raw",
   "metadata": {},
   "source": [
    "foo-package/\n",
    "    spam/\n",
    "        blah.py\n",
    "bar-package/\n",
    "    spam/\n",
    "        grok.py"
   ]
  },
  {
   "cell_type": "raw",
   "metadata": {},
   "source": [
    "在 这 2 个 目 录 里, 都 有 着 共 同 的 命 名 空 间__init__.py 文件。"
   ]
  },
  {
   "cell_type": "raw",
   "metadata": {},
   "source": [
    "将 foo-package 和 bar-package 都加到 python 模块路径并尝试导入"
   ]
  },
  {
   "cell_type": "raw",
   "metadata": {},
   "source": [
    ">>> import sys\n",
    ">>> sys.path.extend(['foo-package', 'bar-package'])\n",
    ">>> import spam.blah\n",
    ">>> import spam.grok\n",
    ">>>"
   ]
  },
  {
   "cell_type": "raw",
   "metadata": {},
   "source": [
    "两个不同的包目录被合并到一起,你可以导入 spam.blah 和 spam.grok,并且它们\n",
    "能够工作。"
   ]
  },
  {
   "cell_type": "markdown",
   "metadata": {},
   "source": [
    "在这里工作的机制被称为“包命名空间”的一个特征。从本质上讲,**包命名空间是\n",
    "一种特殊的封装设计,为合并不同的目录的代码到一个共同的命名空间。**对于大的框\n",
    "架,这可能是有用的,因为它允许一个框架的部分被单独地安装下载。它也使人们能够\n",
    "轻松地为这样的框架编写第三方附加组件和其他扩展。\n",
    "\n",
    "**包命名空间的关键是确保顶级目录中没有 `__init__.py` 文件来作为共同的命名空\n",
    "间。**   \n",
    "缺失 `__init__.py` 文件使得在导入包的时候会发生有趣的事情:  \n",
    "这并没有产生错误,解释器创建了一个由所有包含匹配包名的目录组成的列表。特殊的包命名空间模块\n",
    "被创建,只读的目录列表副本被存储在其 `__path__` 变量中。"
   ]
  },
  {
   "cell_type": "raw",
   "metadata": {},
   "source": [
    ">>> import spam\n",
    ">>> spam.__path__\n",
    "_NamespacePath(['foo-package/spam', 'bar-package/spam'])"
   ]
  },
  {
   "cell_type": "markdown",
   "metadata": {},
   "source": [
    "一个包是否被作为一个包命名空间的主要方法是检查其 `__file__` 属性。如果没有,那包是个命名空间。"
   ]
  },
  {
   "cell_type": "raw",
   "metadata": {},
   "source": [
    ">>> spam.__file__\n",
    "Traceback (most recent call last):\n",
    "File \"<stdin>\", line 1, in <module>\n",
    "AttributeError: 'module' object has no attribute '__file__'\n",
    ">>> spam\n",
    "<module 'spam' (namespace)>\n",
    ">>>\n"
   ]
  },
  {
   "cell_type": "markdown",
   "metadata": {},
   "source": [
    "## 10.6 重新加载模块"
   ]
  },
  {
   "cell_type": "markdown",
   "metadata": {},
   "source": [
    "源码进行了修改， 使用 `imp.reload()` 来重新加载先前加载的模块。"
   ]
  },
  {
   "cell_type": "raw",
   "metadata": {},
   "source": [
    ">>> import spam\n",
    ">>> import imp\n",
    ">>> imp.reload(spam)\n",
    "<module 'spam' from './spam.py'>\n",
    ">>>"
   ]
  },
  {
   "cell_type": "markdown",
   "metadata": {},
   "source": [
    "reload() 擦除了模块底层字典的内容,并通过重新执行模块的源代码来刷新它。"
   ]
  },
  {
   "cell_type": "markdown",
   "metadata": {},
   "source": [
    "在生产环境中可能需要避免重新加载模块。"
   ]
  },
  {
   "cell_type": "markdown",
   "metadata": {},
   "source": [
    "## 10.7 运行目录或压缩文件"
   ]
  },
  {
   "cell_type": "markdown",
   "metadata": {},
   "source": [
    "如果你的应用程序已经有多个文件,你可以把你的应用程序放进它自己的目录并添加一个 `__main__.py` 文件。举"
   ]
  },
  {
   "cell_type": "raw",
   "metadata": {},
   "source": [
    "myapplication/\n",
    "    spam.py\n",
    "    bar.py\n",
    "    grok.py\n",
    "    __main__.py"
   ]
  },
  {
   "cell_type": "raw",
   "metadata": {},
   "source": [
    "如果 __main__.py 存在,你可以简单地在顶级目录运行 Python 解释器:\n",
    "bash % python3 myapplication"
   ]
  },
  {
   "cell_type": "raw",
   "metadata": {},
   "source": [
    "如果你将你的代码打包成 zip 文件,这种技术同样也适用,举个例子:\n",
    "\n",
    "bash % ls\n",
    "spam.py bar.py grok.py __main__.py\n",
    "bash % zip -r myapp.zip *.py\n",
    "bash % python3 myapp.zip\n",
    "... output from __main__.py ..."
   ]
  },
  {
   "cell_type": "raw",
   "metadata": {},
   "source": [
    "由于目录和 zip 文件与正常文件有一点不同,你可能还需要增加一个 shell 脚本,\n",
    "使执行更加容易。例如,如果代码文件名为 myapp.zip,你可以创建这样一个顶级脚本:\n",
    "#!/usr/bin/env python3 /usr/local/bin/myapp.zip"
   ]
  },
  {
   "cell_type": "markdown",
   "metadata": {},
   "source": [
    "## 10.8 读取位于包中的数据文件"
   ]
  },
  {
   "cell_type": "raw",
   "metadata": {},
   "source": [
    "假设你的包中的文件组织成如下:"
   ]
  },
  {
   "cell_type": "raw",
   "metadata": {},
   "source": [
    "mypackage/\n",
    "    __init__.py\n",
    "    somedata.dat\n",
    "    spam.py"
   ]
  },
  {
   "cell_type": "markdown",
   "metadata": {},
   "source": [
    "现在假设 spam.py 文件需要读取 somedata.dat 文件中的内容。你可以用以下代码\n",
    "来完成:"
   ]
  },
  {
   "cell_type": "code",
   "execution_count": null,
   "metadata": {},
   "outputs": [],
   "source": [
    "# spam.py\n",
    "import pkgutil\n",
    "data = pkgutil.get_data(__package__, 'somedata.dat')"
   ]
  },
  {
   "cell_type": "markdown",
   "metadata": {},
   "source": [
    "要读取数据文件,你可能会倾向于编写使用内置的 I/ O 功能的代码,如 open()。**但是这种方法也有一些问题:**\n",
    "- 首先,**一个包对解释器的当前工作目录几乎没有控制权.**因此,编程时任何 I/O 操作都必须使用绝对文件名。由于每个模块包含有完整路径的 __file__ 变量,这弄清楚它的路径不是不可能,但它很凌乱。\n",
    "- 第二,**包通常安装作为.zip 或.egg 文件**,这些文件并不像在文件系统上的一个普通目录里那样被保存。因此,你试图用 open() 对一个包含数据文件的归档文件进行操作,它根本不会工作。"
   ]
  },
  {
   "cell_type": "markdown",
   "metadata": {},
   "source": [
    "pkgutil.get_data() 函数是一个读取数据文件的高级工具,**不用管包是如何安装以及安装在哪**。它只是工作并将文件内容以字节字符串返回给你"
   ]
  },
  {
   "cell_type": "markdown",
   "metadata": {},
   "source": [
    "get_data() 的第一个参数是包含包名的字符串。你可以直接使用包名,也可以使\n",
    "用特殊的变量,比如 `__package__`。第二个参数是包内文件的相对名称。"
   ]
  },
  {
   "cell_type": "markdown",
   "metadata": {},
   "source": [
    "## 10.9 将文件夹加入到 sys.path"
   ]
  },
  {
   "cell_type": "markdown",
   "metadata": {},
   "source": [
    "### 第一种方法: 可以使用 `PYTHONPATH`环境变量来添加。"
   ]
  },
  {
   "cell_type": "markdown",
   "metadata": {},
   "source": [
    "在自定义应用程序中,这样的环境变量可在程序启动时设置或通过 shell 脚本。"
   ]
  },
  {
   "cell_type": "raw",
   "metadata": {},
   "source": [
    "bash % env PYTHONPATH=/some/dir:/other/dir python3\n",
    "Python 3.3.0 (default, Oct 4 2012, 10:17:33)\n",
    "[GCC 4.2.1 (Apple Inc. build 5666) (dot 3)] on darwin\n",
    "Type \"help\", \"copyright\", \"credits\" or \"license\" for more information."
   ]
  },
  {
   "cell_type": "raw",
   "metadata": {},
   "source": [
    ">>> import sys\n",
    ">>> sys.path\n",
    "['', '/some/dir', '/other/dir', ...]\n",
    ">>>"
   ]
  },
  {
   "cell_type": "markdown",
   "metadata": {},
   "source": [
    "### 第二种方法是创建一个.pth 文件,将目录列举出来"
   ]
  },
  {
   "cell_type": "raw",
   "metadata": {},
   "source": [
    "# myapplication.pth\n",
    "/some/dir\n",
    "/other/dir"
   ]
  },
  {
   "cell_type": "markdown",
   "metadata": {},
   "source": [
    "这个.pth 文件需要放在某个 Python 的 site-packages 目录,通常位于/usr/local/\n",
    "lib/python3.3/site-packages 或者 ~/.local/lib/python3.3/sitepackages。"
   ]
  },
  {
   "cell_type": "markdown",
   "metadata": {},
   "source": [
    "当解释器启动时,.pth 文件里列举出来的存在于文件系统的目录将被添加到 sys.path。安装一个.pth 文件\n",
    "可能需要管理员权限,如果它被添加到系统级的 Python 解释器。"
   ]
  },
  {
   "cell_type": "markdown",
   "metadata": {},
   "source": [
    "*比起费力地找文件,你可能会倾向于写一个代码手动调节 sys.path 的值。*"
   ]
  },
  {
   "cell_type": "code",
   "execution_count": null,
   "metadata": {},
   "outputs": [],
   "source": [
    "import sys\n",
    "sys.path.insert(0, '/some/dir')\n",
    "sys.path.insert(0, '/other/dir')"
   ]
  },
  {
   "cell_type": "markdown",
   "metadata": {},
   "source": [
    "虽然这能“工作”,它是在`实践中极为脆弱,应尽量避免使用`。这种方法的问题是, **它将目录名硬编码到了你的源代码**。"
   ]
  },
  {
   "cell_type": "markdown",
   "metadata": {},
   "source": [
    "`site-packages 目录是第三方包和模块安装的目录。`如果你手动安装你的代码,它将\n",
    "被安装到 site-packages 目录。**虽然用于配置 path 的.pth 文件必须放置在 site-packages\n",
    "里,但它配置的路径可以是系统上任何你希望的目录。因此,你可以把你的代码放在一\n",
    "系列不同的目录,只要那些目录包含在.pth 文件里。**"
   ]
  },
  {
   "cell_type": "markdown",
   "metadata": {},
   "source": [
    "## 10.10 通过字符串名导入模块"
   ]
  },
  {
   "cell_type": "markdown",
   "metadata": {},
   "source": [
    "Q: 你想导入一个模块,但是模块的名字在字符串里。你想对字符串调用导入命令。"
   ]
  },
  {
   "cell_type": "markdown",
   "metadata": {},
   "source": [
    "A: 使用 `importlib.import_module()` 函数来手动导入名字为字符串给出的一个模块或\n",
    "者包的一部分。"
   ]
  },
  {
   "cell_type": "code",
   "execution_count": null,
   "metadata": {},
   "outputs": [],
   "source": [
    "import importlib\n",
    "math = importlib.import_module('math')\n",
    ">>> math.sin(2)\n",
    "0.9092974268256817\n",
    ">>> mod = importlib.import_module('urllib.request')\n",
    ">>> u = mod.urlopen('http://www.python.org')\n",
    ">>>"
   ]
  },
  {
   "cell_type": "markdown",
   "metadata": {},
   "source": [
    "如果你正在使用的包,import_module()个额外的参数。例如:也可用于相对导入。需要给它传递一个额外的参数。"
   ]
  },
  {
   "cell_type": "code",
   "execution_count": null,
   "metadata": {},
   "outputs": [],
   "source": [
    "import importlib\n",
    "# Same as 'from . import b'\n",
    "b = importlib.import_module('.b', __package__)"
   ]
  },
  {
   "cell_type": "code",
   "execution_count": null,
   "metadata": {},
   "outputs": [],
   "source": []
  }
 ],
 "metadata": {
  "kernelspec": {
   "display_name": "env3",
   "language": "python",
   "name": "env3"
  },
  "language_info": {
   "codemirror_mode": {
    "name": "ipython",
    "version": 3
   },
   "file_extension": ".py",
   "mimetype": "text/x-python",
   "name": "python",
   "nbconvert_exporter": "python",
   "pygments_lexer": "ipython3",
   "version": "3.7.3"
  }
 },
 "nbformat": 4,
 "nbformat_minor": 2
}
