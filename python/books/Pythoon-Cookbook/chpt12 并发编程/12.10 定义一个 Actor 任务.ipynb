{
 "cells": [
  {
   "cell_type": "markdown",
   "metadata": {},
   "source": [
    "## 12.10 定义一个 Actor 任务"
   ]
  },
  {
   "cell_type": "markdown",
   "metadata": {},
   "source": [
    "Actor模式是一种并发模型，与另一种模型共享内存完全相反，Actor模型share nothing。所有的线程(或进程)通过消息传递的方式进行合作，这些线程(或进程)称为Actor。  \n",
    "MapReduce就是一种典型的Actor模式.  \n",
    "到了分布式系统时代，工厂已经用流水线了，每个人都有明确分工，这就是Actor模式。每个线程都是一个Actor，这些Actor不共享任何内存，所有的数据都是通过消息传递的方式进行的。"
   ]
  },
  {
   "cell_type": "markdown",
   "metadata": {},
   "source": [
    ",一个 actor 就是一个并发执\n",
    "行的任务,只是简单的执行发送给它的消息任务。响应这些消息时,它可能还会给其他\n",
    "actor 发送更进一步的消息。actor 之间的通信是单向和异步的。因此,消息发送者不知\n",
    "道消息是什么时候被发送,也不会接收到一个消息已被处理的回应或通知。"
   ]
  },
  {
   "cell_type": "markdown",
   "metadata": {},
   "source": [
    "## 12.11 实现消息发布/订阅模型 "
   ]
  },
  {
   "cell_type": "markdown",
   "metadata": {},
   "source": [
    "要实现发布/订阅的消息通信模式,你通常要引入一个单独的“交换机”或“网关”\n",
    "对象作为所有消息的中介。也就是说,**不直接将消息从一个任务发送到另一个(actor模式),而是将\n",
    "其发送给交换机,然后由交换机将它发送给一个或多个被关联任务。**"
   ]
  },
  {
   "cell_type": "markdown",
   "metadata": {},
   "source": [
    "使用一个交换机可以简化大部分涉及到线程通信的工作。无需去写通过多进\n",
    "程模块来操作多个线程,你只需要使用这个交换机来连接它们。某种程度上,这个就跟\n",
    "日志模块的工作原理类似。实际上,它可以轻松的解耦程序中多个任务。\n",
    "\n",
    "其次,交换机广播消息给多个订阅者的能力带来了一个全新的通信模式。例如,你\n",
    "可以使用多任务系统、广播或扇出。你还可以通过以普通订阅者身份绑定来构建调试和\n",
    "诊断工具。"
   ]
  },
  {
   "cell_type": "markdown",
   "metadata": {},
   "source": [
    "## 12.14 在 Unix 系统上面启动守护进程"
   ]
  },
  {
   "cell_type": "code",
   "execution_count": null,
   "metadata": {},
   "outputs": [],
   "source": [
    "#!/usr/bin/env python3\n",
    "import sys\n",
    "import os\n",
    "import atexit\n",
    "import signal\n",
    "\n",
    "\n",
    "def daemonize(pidfile, *, stdin='/dev/null',\n",
    "              stdout='/dev/null',\n",
    "              stderr='/dev/null'):\n",
    "    if os.path.exists(pidfile):\n",
    "        raise RuntimeError('Already running')\n",
    "  \n",
    "    # First fork (detaches from parent)\n",
    "    try:\n",
    "    if os.fork() > 0:\n",
    "        raise SystemExit(0)     # Parent exit\n",
    "    except OSError as e:\n",
    "        raise RuntimeError('fork #1 failed.')\n",
    "        \n",
    "    os.chdir('/')\n",
    "    os.umask(0)\n",
    "    os.setsid()\n",
    "    \n",
    "    # Second fork (relinquish session leadership)\n",
    "    try:\n",
    "        if os.fork() > 0:\n",
    "            raise SystemExit(0)\n",
    "    except OSError as e:\n",
    "        raise RuntimeError('fork #2 failed.')\n",
    "        \n",
    "    # Flush I/O buffers\n",
    "    sys.stdout.flush()\n",
    "    sys.stderr.flush()\n",
    "    \n",
    "    # Replace file descriptors for stdin, stdout, and stderr\n",
    "    with open(stdin, 'rb', 0) as f:\n",
    "        os.dup2(f.fileno(), sys.stdin.fileno())\n",
    "    with open(stdout, 'ab', 0) as f:\n",
    "        os.dup2(f.fileno(), sys.stdout.fileno())\n",
    "    with open(stderr, 'ab', 0) as f:\n",
    "        os.dup2(f.fileno(), sys.stderr.fileno())\n",
    "    # Write the PID fileb\n",
    "    with open(pidfile,'w') as f:\n",
    "        print(os.getpid(),file=f)\n",
    "        \n",
    "    # Arrange to have the PID file removed on exit/signal\n",
    "    atexit.register(lambda: os.remove(pidfile))\n",
    "    \n",
    "    # Signal handler for termination (required)\n",
    "    def sigterm_handler(signo, frame):\n",
    "        raise SystemExit(1)        \n",
    "    signal.signal(signal.SIGTERM, sigterm_handler)\n",
    "    \n",
    "\n",
    "def main():\n",
    "    import time\n",
    "    sys.stdout.write('Daemon started with pid {}\\n'.format(os.getpid()))\n",
    "    while True:\n",
    "        sys.stdout.write('Daemon Alive! {}\\n'.format(time.ctime()))\n",
    "        time.sleep(10)\n",
    "        \n",
    "        \n",
    "if __name__ == '__main__':\n",
    "    PIDFILE = '/tmp/daemon.pid'\n",
    "    \n",
    "    if len(sys.argv) != 2:\n",
    "        print('Usage: {} [start|stop]'.format(sys.argv[0]), file=sys.stderr)\n",
    "        raise SystemExit(1)\n",
    "\n",
    "    if sys.argv[1] == 'start':\n",
    "        try:\n",
    "            daemonize(PIDFILE, stdout='/tmp/daemon.log',stderr='/tmp/dameon.log')\n",
    "        except RuntimeError as e:\n",
    "            print(e, file=sys.stderr)\n",
    "            raise SystemExit(1)\n",
    "            \n",
    "        main()\n",
    "        \n",
    "    elif sys.argv[1] == 'stop':\n",
    "        if os.path.exists(PIDFILE):\n",
    "            with open(PIDFILE) as f:\n",
    "                os.kill(int(f.read()), signal.SIGTERM)\n",
    "        else:\n",
    "            print('Not running', file=sys.stderr)\n",
    "            raise SystemExit(1)\n",
    "    else:\n",
    "        print('Unknown command {!r}'.format(sys.argv[1]), file=sys.stderr)\n",
    "        raise SystemExit(1)\n"
   ]
  },
  {
   "cell_type": "markdown",
   "metadata": {},
   "source": [
    "daemonize() 函数只接受关键字参数,这样的话可选参数在被使用时就更清晰了"
   ]
  },
  {
   "cell_type": "markdown",
   "metadata": {},
   "source": [
    "在子进程变成孤儿后,调用 `os.setsid()` 创建了一个全新的进程会话,并设置子\n",
    "进程为首领。它会**设置这个子进程为新的进程组的首领,并确保不会再有控制终端。**\n",
    "\n",
    "它需要将守护进程同终端分离开并确保信号机制对它不起\n",
    "作用。调用` os.chdir() 和 os.umask(0) `改变了当前工作目录并重置文件权限掩码。修\n",
    "改目录通常是个好主意,因为这样可以使得它不再工作在被启动时的目录。"
   ]
  },
  {
   "cell_type": "markdown",
   "metadata": {},
   "source": [
    "一旦守护进程被正确的分离,它会重新初始化标准 I/O 流指向用户指定的文件。\n",
    "\n",
    "这一部分有点难懂。跟标准 I/O 流相关的文件对象的引用在解释器中多个地方被找到(sys.stdout, sys.__stdout__ 等)。\n",
    "**仅仅简单的关闭 sys.stdout 并重新指定它是行不\n",
    "通的,因为没办法知道它是否全部都是用的是 sys.stdout 。这里,我们打开了一个单\n",
    "独的文件对象,并调用 os.dup2() ,用它来代替被 sys.stdout 使用的文件描述符。这\n",
    "样,sys.stdout 使用的原始文件会被关闭并由新的来替换。还要强调的是任何用于文\n",
    "件编码或文本处理的标准 I/O 流还会保留原状。**\n"
   ]
  },
  {
   "cell_type": "markdown",
   "metadata": {},
   "source": [
    "守护进程的一个通常实践是在一个文件中写入进程 ID,可以被其他程序后面使用\n",
    "到。 daemonize() 函数的最后部分写了这个文件,但是在程序终止时删除了它"
   ]
  },
  {
   "cell_type": "markdown",
   "metadata": {},
   "source": [
    "**一个对于 SIGTERM 的信号处理器的定义同样需要被优雅的关闭。**信号处理器简单的抛出了 SystemExit() 异常。\n",
    " 或许这一步看上去没必要,但是没有它,终止信号会使得不执行 atexit.register()注册的清理操作的时候就杀掉了解释器。一个杀掉进程的例子代码可以在程序最后的stop 命令的操作中看到。"
   ]
  },
  {
   "cell_type": "code",
   "execution_count": null,
   "metadata": {},
   "outputs": [],
   "source": []
  }
 ],
 "metadata": {
  "kernelspec": {
   "display_name": "env3",
   "language": "python",
   "name": "env3"
  },
  "language_info": {
   "codemirror_mode": {
    "name": "ipython",
    "version": 3
   },
   "file_extension": ".py",
   "mimetype": "text/x-python",
   "name": "python",
   "nbconvert_exporter": "python",
   "pygments_lexer": "ipython3",
   "version": "3.7.3"
  }
 },
 "nbformat": 4,
 "nbformat_minor": 2
}
