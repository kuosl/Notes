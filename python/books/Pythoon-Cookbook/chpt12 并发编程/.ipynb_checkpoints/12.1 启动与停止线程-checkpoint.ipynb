{
 "cells": [
  {
   "cell_type": "markdown",
   "metadata": {},
   "source": [
    "并发的程序有潜在的危险. 因此, 本章的主要目标之一是给出更加可信赖和易调试的代码."
   ]
  },
  {
   "cell_type": "markdown",
   "metadata": {},
   "source": [
    "## 12.1 启动与停止线程"
   ]
  },
  {
   "cell_type": "markdown",
   "metadata": {},
   "source": [
    "threading 库可以在单独的线程中执行任何的在 Python 中可以调用的对象。"
   ]
  },
  {
   "cell_type": "code",
   "execution_count": 5,
   "metadata": {},
   "outputs": [
    {
     "name": "stdout",
     "output_type": "stream",
     "text": [
      "T-minus 10\n",
      "Still running\n",
      "T-minus 9\n",
      "T-minusStill running 8\n",
      "\n",
      "T-minus 7\n",
      "Still running\n",
      "T-minus 6\n",
      "T-minus 5\n",
      "Still running\n",
      "T-minus 4\n",
      "T-minus 3\n",
      "Still running\n",
      "T-minus 2\n",
      "T-minus 1\n",
      "Still running\n",
      "Completed\n"
     ]
    }
   ],
   "source": [
    "# Code to execute in an independent thread\n",
    "import time\n",
    "\n",
    "def countdown(n):\n",
    "    while n > 0:\n",
    "        print('T-minus', n)\n",
    "        n -= 1\n",
    "        time.sleep(0.5)\n",
    "\n",
    "# Create and launch a thread\n",
    "from threading import Thread\n",
    "t = Thread(target=countdown, args=(10,))\n",
    "t.start()\n",
    "\n",
    "n = 10\n",
    "while n > 0:\n",
    "    n -= 1\n",
    "    if t.is_alive():\n",
    "        print('Still running')\n",
    "    else:\n",
    "        print('Completed')\n",
    "        n = 0\n",
    "    time.sleep(1)"
   ]
  },
  {
   "cell_type": "code",
   "execution_count": null,
   "metadata": {},
   "outputs": [],
   "source": [
    "当你创建好一个线程对象后,该对象并不会立即执行,除非你调用它的 start()\n",
    "方法(当你调用 start() 方法时,它会调用你传递进来的函数,并把你传递进来的参\n",
    "数传递给该函数)。"
   ]
  },
  {
   "cell_type": "markdown",
   "metadata": {},
   "source": [
    "你也可以将一个线程加入到当前线程,并等待它终止:\n",
    "`t.join()`"
   ]
  },
  {
   "cell_type": "markdown",
   "metadata": {},
   "source": [
    "你可以查询一个线程对象的状态,看它是否还在\n",
    "执行:\n",
    "```python\n",
    "if t.is_alive():\n",
    "    print('Still running')\n",
    "else:\n",
    "    print('Completed')\n",
    "```"
   ]
  },
  {
   "cell_type": "markdown",
   "metadata": {},
   "source": [
    "后台线程无法等待,不过,这些线程会在主线程终止时自动销毁。"
   ]
  },
  {
   "cell_type": "markdown",
   "metadata": {},
   "source": [
    "由于`全局解释锁(GIL)`的原因,Python 的线程被`限制到同一时刻只允许一个线\n",
    "程执行`这样一个执行模型。所以,Python 的线程更**适用于处理 I/O 和其他需要并发执\n",
    "行的阻塞操作**(比如等待 I/O、等待从数据库获取数据等等),而**不是需要多处理器并\n",
    "行的计算密集型任务**。\n"
   ]
  },
  {
   "cell_type": "markdown",
   "metadata": {},
   "source": [
    "## 12.2 判断线程是否已经启动"
   ]
  },
  {
   "cell_type": "markdown",
   "metadata": {},
   "source": [
    "*线程的一个关键特性是每个线程都是独立运行且状态不可预测。如果程序中的其\n",
    "他线程需要通过判断某个线程的状态来确定自己下一步的操作,这时线程同步问题就\n",
    "会变得非常棘手。*"
   ]
  },
  {
   "cell_type": "markdown",
   "metadata": {},
   "source": [
    "要使用 `threading 库中的 Event 对象`。\n",
    "> Event 对象包含一个**可由线程设置的信号标志**,它允许线程等待某些事件的发生。在初\n",
    "始情况下,event 对象中的信号标志被设置为假。如果有线程等待一个 event 对象,而\n",
    "这个 event 对象的标志为假,那么这个线程将会被一直阻塞直至该标志为真。一个线程\n",
    "如果将一个 event 对象的信号标志设置为真,它将唤醒所有等待这个 event 对象的线\n",
    "程。如果一个线程等待一个已经被设置为真的 event 对象,那么它将忽略这个事件,继\n",
    "续执行。"
   ]
  },
  {
   "cell_type": "code",
   "execution_count": 8,
   "metadata": {},
   "outputs": [
    {
     "name": "stdout",
     "output_type": "stream",
     "text": [
      "Launching countdown\n",
      "countdown starting\n",
      "T-minus  10\n"
     ]
    },
    {
     "data": {
      "text/plain": [
       "True"
      ]
     },
     "execution_count": 8,
     "metadata": {},
     "output_type": "execute_result"
    },
    {
     "name": "stdout",
     "output_type": "stream",
     "text": [
      "countdown is running\n",
      "T-minus  9\n",
      "T-minus  8\n",
      "T-minus  7\n",
      "T-minus  6\n",
      "T-minus  5\n",
      "T-minus  4\n",
      "T-minus  3\n",
      "T-minus  2\n",
      "T-minus  1\n"
     ]
    }
   ],
   "source": [
    "from threading import Thread, Event\n",
    "import time\n",
    "\n",
    "# Code to execute in an independent thread\n",
    "def countdown(n, started_evt):\n",
    "    print('countdown starting')\n",
    "    started_evt.set() # ???\n",
    "    while n>0:\n",
    "        print('T-minus ', n)\n",
    "        n -= 1\n",
    "        time.sleep(1)\n",
    "\n",
    "# Create the event object that will be used to signal startup\n",
    "started_evt = Event()\n",
    "\n",
    "# Launch the thread and pass the startup event\n",
    "print('Launching countdown')\n",
    "t = Thread(target=countdown, args=(10, started_evt))\n",
    "t.start()\n",
    "\n",
    "# Wait for the thread to start\n",
    "started_evt.wait()\n",
    "print('countdown is running')"
   ]
  },
  {
   "cell_type": "markdown",
   "metadata": {},
   "source": [
    "> **event 对象最好单次使用**,就是说,你创建一个 event 对象,让某个线程等待这个\n",
    "对象,一旦这个对象被设置为真,你就应该丢弃它。\n",
    "\n",
    "\n",
    "> 尽管可以通过 clear() 方法来重\n",
    "置 event 对象,但是很难确保安全地清理 event 对象并对它重新赋值。很可能会发生错\n",
    "过事件、死锁或者其他问题(特别是,你无法保证重置 event 对象的代码会在线程再次\n",
    "等待这个 event 对象之前执行)。"
   ]
  },
  {
   "cell_type": "markdown",
   "metadata": {},
   "source": [
    "如果一个线程需要不停地重复使用 event 对象,你最\n",
    "好使用 `Condition `对象来代替。"
   ]
  },
  {
   "cell_type": "markdown",
   "metadata": {},
   "source": [
    "## 12.4 给关键部分加锁"
   ]
  },
  {
   "cell_type": "markdown",
   "metadata": {},
   "source": [
    "Lock 对象和 with 语句块一起使用可以保证互斥执行"
   ]
  },
  {
   "cell_type": "code",
   "execution_count": null,
   "metadata": {},
   "outputs": [],
   "source": [
    "import threading\n",
    "class SharedCounter:\n",
    "    '''\n",
    "    A counter object that can be shared by multiple threads.\n",
    "    '''\n",
    "    def __init__(self, initial_value = 0):\n",
    "        self._value = initial_value\n",
    "        self._value_lock = threading.Lock()\n",
    "  \n",
    "    def incr(self,delta=1):\n",
    "        '''\n",
    "        Increment the counter with locking\n",
    "        '''\n",
    "        with self._value_lock:\n",
    "            self._value += delta\n"
   ]
  },
  {
   "cell_type": "markdown",
   "metadata": {},
   "source": [
    "比较笨的方法来获取和释放锁"
   ]
  },
  {
   "cell_type": "code",
   "execution_count": null,
   "metadata": {},
   "outputs": [],
   "source": [
    "def incr(self,delta=1):\n",
    "    '''\n",
    "    Increment the counter with locking\n",
    "    '''\n",
    "    self._value_lock.acquire()\n",
    "    self._value += delta\n",
    "    self._value_lock.release()\n"
   ]
  }
 ],
 "metadata": {
  "kernelspec": {
   "display_name": "env3",
   "language": "python",
   "name": "env3"
  },
  "language_info": {
   "codemirror_mode": {
    "name": "ipython",
    "version": 3
   },
   "file_extension": ".py",
   "mimetype": "text/x-python",
   "name": "python",
   "nbconvert_exporter": "python",
   "pygments_lexer": "ipython3",
   "version": "3.7.3"
  }
 },
 "nbformat": 4,
 "nbformat_minor": 2
}
