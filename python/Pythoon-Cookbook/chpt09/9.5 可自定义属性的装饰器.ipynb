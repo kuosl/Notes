{
 "cells": [
  {
   "cell_type": "markdown",
   "metadata": {},
   "source": [
    "## 9.5 可自定义属性的装饰器"
   ]
  },
  {
   "cell_type": "markdown",
   "metadata": {},
   "source": [
    "你想写一个装饰器来包装一个函数,并且<span class=\"mark\">允许用户提供参数在运行时控制装饰器行为。</span>"
   ]
  },
  {
   "cell_type": "markdown",
   "metadata": {},
   "source": [
    "解决方案\n",
    "<span class=\"mark\">引入一个访问函数,使用 nonlocal 来修改内部变量。然后这个访问函数被作为一个属性赋值给包装函数.</span>"
   ]
  },
  {
   "cell_type": "code",
   "execution_count": null,
   "metadata": {},
   "outputs": [],
   "source": [
    "from functools import wraps, partial\n",
    "import logging\n",
    "\n",
    "# Utility decorator to attach a function as an attribute of obj\n",
    "def attach_wrapper(obj, func=None):\n",
    "    if func is None:\n",
    "        return partial(attach_wrapper, obj)\n",
    "    setattr(obj, func.__name__, func)\n",
    "    return func\n",
    "\n",
    "\n",
    "#上述函数有什么用呢？？\n",
    "def logged(level, name=None, message=None):\n",
    "    '''\n",
    "    Add logging to a function. level is the logging\n",
    "    level, name is the logger name, and message is the\n",
    "    log message. If name and message aren't specified,\n",
    "    they default to the function's module and name.\n",
    "    '''\n",
    "    def decorate(func):\n",
    "        logname = name if name else func.__module__\n",
    "        log = logging.getLogger(logname)\n",
    "        logmsg = message if message else func.__name__\n",
    "        \n",
    "        @wraps(func)\n",
    "        def wrapper(*args, **kwargs):\n",
    "            log.log(level, logmsg)\n",
    "            return func(*args, **kwargs)\n",
    "        \n",
    "        # attach setter functions\n",
    "        @attach_wrapper(wrapper)\n",
    "        def set_level(newlevel):\n",
    "            nonlocal level\n",
    "            level = newlevel\n",
    "\n",
    "        @attach_wrapper(wrapper)\n",
    "        def set_level(newlogmsg):\n",
    "            nonlocal logmsg\n",
    "            logmsg = newlogmsg\n",
    "        \n",
    "        return wrapper\n",
    "\n",
    "# example use\n",
    "@logged(logging.DEBUG)\n",
    "def add(x, y):\n",
    "    return x+y\n",
    "\n",
    "# example use\n",
    "@logged(logging.CRITICAL, name='example')\n",
    "def spam():\n",
    "    return \"Spam!\""
   ]
  },
  {
   "cell_type": "markdown",
   "metadata": {},
   "source": [
    "- [ ] 装饰器究竟是如何运行的？ --尤其是上述的装饰器! @attach_wrapper(wrapper)  \n",
    "它应该是一种语法糖，但究竟是什么样的语法的糖？\n",
    "\n",
    "- [ ] markdown正确的换行方式是什么样的？\n",
    "- [ ] 什么是markdown的段落，什么是换行？有何区别和用处 ？"
   ]
  },
  {
   "cell_type": "markdown",
   "metadata": {},
   "source": [
    "- [ ] <span class=\"burk\">代码运行还有问题，现在太晚了，白天接着整</span>\n",
    "\n",
    "https://foofish.net/python-decorator.html"
   ]
  },
  {
   "cell_type": "code",
   "execution_count": null,
   "metadata": {},
   "outputs": [],
   "source": []
  }
 ],
 "metadata": {
  "kernelspec": {
   "display_name": "env3",
   "language": "python",
   "name": "env3"
  },
  "language_info": {
   "codemirror_mode": {
    "name": "ipython",
    "version": 3
   },
   "file_extension": ".py",
   "mimetype": "text/x-python",
   "name": "python",
   "nbconvert_exporter": "python",
   "pygments_lexer": "ipython3",
   "version": "3.7.3"
  }
 },
 "nbformat": 4,
 "nbformat_minor": 2
}
