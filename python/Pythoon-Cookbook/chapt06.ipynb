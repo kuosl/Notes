{
  "cells": [
    {
      "cell_type": "code",
      "execution_count": 1,
      "metadata": {
        "collapsed": true,
        "pycharm": {
          "is_executing": false
        }
      },
      "outputs": [
        {
          "name": "stdout",
          "text": [
            "Row(Symbol\u003d\u0027AA\u0027, Price\u003d\u002739.48\u0027, Date\u003d\u00276/11/2007\u0027, Time\u003d\u00279:36am\u0027, Change\u003d\u0027-0.18\u0027, Volume\u003d\u0027181800\u0027)\nRow(Symbol\u003d\u0027AIG\u0027, Price\u003d\u002771.38\u0027, Date\u003d\u00276/11/2007\u0027, Time\u003d\u00279:36am\u0027, Change\u003d\u0027-0.15\u0027, Volume\u003d\u0027195500\u0027)\nRow(Symbol\u003d\u0027AXP\u0027, Price\u003d\u002762.58\u0027, Date\u003d\u00276/11/2007\u0027, Time\u003d\u00279:36am\u0027, Change\u003d\u0027-0.46\u0027, Volume\u003d\u0027935000\u0027)\nRow(Symbol\u003d\u0027BA\u0027, Price\u003d\u002798.31\u0027, Date\u003d\u00276/11/2007\u0027, Time\u003d\u00279:36am\u0027, Change\u003d\u0027+0.12\u0027, Volume\u003d\u0027104800\u0027)\nRow(Symbol\u003d\u0027C\u0027, Price\u003d\u002753.08\u0027, Date\u003d\u00276/11/2007\u0027, Time\u003d\u00279:36am\u0027, Change\u003d\u0027-0.25\u0027, Volume\u003d\u0027360900\u0027)\nRow(Symbol\u003d\u0027CAT\u0027, Price\u003d\u002778.29\u0027, Date\u003d\u00276/11/2007\u0027, Time\u003d\u00279:36am\u0027, Change\u003d\u0027-0.23\u0027, Volume\u003d\u0027225400\u0027)\n"
          ],
          "output_type": "stream"
        }
      ],
      "source": "from collections import namedtuple\nimport csv\nfrom pprint import pprint\nwith open(\u0027stocks.csv\u0027) as f:\n    f_csv \u003d csv.reader(f)\n    headers \u003d next(f_csv)\n    # for now in f_csv:\n    Row \u003d namedtuple(\u0027Row\u0027, headers)\n    for r in f_csv:\n        row \u003d Row(*r) # 这里为什么使用星号？？\n        pprint(row)\n        "
    },
    {
      "cell_type": "code",
      "execution_count": null,
      "outputs": [],
      "source": "",
      "metadata": {
        "pycharm": {
          "metadata": false,
          "name": "#%%\n"
        }
      }
    },
    {
      "cell_type": "code",
      "execution_count": 3,
      "outputs": [],
      "source": "headers \u003d [\u0027Symbol\u0027, \u0027Price\u0027, \u0027Date\u0027, \u0027Time\u0027, \u0027Change\u0027, \u0027Volume\u0027]\nrows \u003d [{\u0027Symbol\u0027:\u0027AA\u0027, \u0027Price\u0027:39.48, \u0027Date\u0027:\u00276/11/2007\u0027,\n\u0027Time\u0027:\u00279:36am\u0027, \u0027Change\u0027:-0.18, \u0027Volume\u0027:181800},\n{\u0027Symbol\u0027:\u0027AIG\u0027, \u0027Price\u0027: 71.38, \u0027Date\u0027:\u00276/11/2007\u0027,\n\u0027Time\u0027:\u00279:36am\u0027, \u0027Change\u0027:-0.15, \u0027Volume\u0027: 195500},\n{\u0027Symbol\u0027:\u0027AXP\u0027, \u0027Price\u0027: 62.58, \u0027Date\u0027:\u00276/11/2007\u0027,\n\u0027Time\u0027:\u00279:36am\u0027, \u0027Change\u0027:-0.46, \u0027Volume\u0027: 935000},\n]\n\nwith open(\u0027stocks.csv\u0027,\u0027w\u0027) as f:\n    f_csv \u003d csv.DictWriter(f, headers)\n    f_csv.writeheader()\n    f_csv.writerows(rows)",
      "metadata": {
        "pycharm": {
          "metadata": false,
          "name": "#%%\n",
          "is_executing": false
        }
      }
    },
    {
      "cell_type": "code",
      "execution_count": null,
      "outputs": [],
      "source": "\n",
      "metadata": {
        "pycharm": {
          "metadata": false,
          "name": "#%%\n"
        }
      }
    }
  ],
  "metadata": {
    "language_info": {
      "codemirror_mode": {
        "name": "ipython",
        "version": 2
      },
      "file_extension": ".py",
      "mimetype": "text/x-python",
      "name": "python",
      "nbconvert_exporter": "python",
      "pygments_lexer": "ipython2",
      "version": "2.7.6"
    },
    "kernelspec": {
      "name": "env3",
      "language": "python",
      "display_name": "env3"
    }
  },
  "nbformat": 4,
  "nbformat_minor": 0
}