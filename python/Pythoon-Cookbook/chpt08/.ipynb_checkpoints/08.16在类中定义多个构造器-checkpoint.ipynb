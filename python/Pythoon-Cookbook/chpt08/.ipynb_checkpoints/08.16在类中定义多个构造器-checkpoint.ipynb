{
 "cells": [
  {
   "cell_type": "markdown",
   "metadata": {},
   "source": [
    "    为了实现多个构造器,你需要使用到类方法。"
   ]
  },
  {
   "cell_type": "markdown",
   "metadata": {},
   "source": [
    "    python的类不支持创建多个构造函数, 只能定义一个__init__函数。 为了达到多个构造函数的功能,必须使用类函数。 "
   ]
  },
  {
   "cell_type": "code",
   "execution_count": 15,
   "metadata": {},
   "outputs": [
    {
     "name": "stdout",
     "output_type": "stream",
     "text": [
      "2019-6-1\n",
      "now, we will test the repr: serialize and deserialize operation demonstrate\n",
      "reprent string is  MyDate(2019, 6, 1)\n",
      "2019-6-1\n"
     ]
    }
   ],
   "source": [
    "import time\n",
    "\n",
    "class MyDate:\n",
    "    \"\"\"方法一， 使用类方法\"\"\"\n",
    "    def __init__(self, year, month, day):\n",
    "        self.year = year\n",
    "        self.month = month\n",
    "        self.day = day\n",
    "    @classmethod\n",
    "    def today(cls):\n",
    "        t = time.localtime()\n",
    "        # 返回一个本类的对象, 这是构造函数的基本共性\n",
    "        return cls(t.tm_year, t.tm_mon, t.tm_mday)\n",
    "    \n",
    "    # 供打印使用\n",
    "    def __str__(self):\n",
    "        return \"{}-{}-{}\".format(self.year, self.month, self.day)\n",
    "    \n",
    "    # repr必须返回本对象的构造格式 MyData(2019, 6, 1)\n",
    "    def __repr__(self):\n",
    "        return \"MyDate({}, {}, {})\".format(self.year, self.month, self.day)\n",
    "    \n",
    "# test\n",
    "d1 = MyDate.today()\n",
    "print(d1)\n",
    "print(\"now, we will test the repr: serialize and deserialize operation demonstrate\")\n",
    "str_d1 = repr(d1)\n",
    "print(\"reprent string is \", str_d1)\n",
    "obj = eval(str_d1)\n",
    "print(obj)"
   ]
  },
  {
   "cell_type": "code",
   "execution_count": null,
   "metadata": {},
   "outputs": [],
   "source": []
  }
 ],
 "metadata": {
  "kernelspec": {
   "display_name": "env3",
   "language": "python",
   "name": "env3"
  },
  "language_info": {
   "codemirror_mode": {
    "name": "ipython",
    "version": 3
   },
   "file_extension": ".py",
   "mimetype": "text/x-python",
   "name": "python",
   "nbconvert_exporter": "python",
   "pygments_lexer": "ipython3",
   "version": "3.7.3"
  }
 },
 "nbformat": 4,
 "nbformat_minor": 2
}
